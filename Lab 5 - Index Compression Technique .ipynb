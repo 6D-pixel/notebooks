{
 "cells": [
  {
   "cell_type": "markdown",
   "metadata": {
    "id": "U_jdWPgVj-5z"
   },
   "source": [
    "# 1. Apply run length encoding for the following string and compress it.\n"
   ]
  },
  {
   "cell_type": "code",
   "execution_count": null,
   "metadata": {
    "colab": {
     "base_uri": "https://localhost:8080/",
     "height": 35
    },
    "id": "PHRiQCLNbntQ",
    "outputId": "767bccec-39c7-4698-cfb1-d515858df658"
   },
   "outputs": [
    {
     "data": {
      "application/vnd.google.colaboratory.intrinsic+json": {
       "type": "string"
      },
      "text/plain": [
       "'e8r16t15i8f6'"
      ]
     },
     "execution_count": 21,
     "metadata": {},
     "output_type": "execute_result"
    }
   ],
   "source": [
    "s='eeeeeeerrrrrrrrrrrrrrrrttttttttttttttiiiiiiiifffffeft'\n",
    "from collections import OrderedDict\n",
    "enc=OrderedDict.fromkeys(s, 0)\n",
    "for i in s:\n",
    "  enc[i] += 1\n",
    "  \n",
    "encoded = ''\n",
    "for key,value in enc.items():\n",
    "  encoded = encoded + key + str(value)\n",
    "\n",
    "encoded\n"
   ]
  },
  {
   "cell_type": "markdown",
   "metadata": {
    "id": "4-URPwxCkChq"
   },
   "source": [
    "## 2.Inverted Index File with Terms, Occurrences and Posting List\n"
   ]
  },
  {
   "cell_type": "code",
   "execution_count": null,
   "metadata": {
    "colab": {
     "base_uri": "https://localhost:8080/"
    },
    "id": "0TEGeFq0f39t",
    "outputId": "49fd7bae-6c87-4142-917e-58d50c6fcede"
   },
   "outputs": [
    {
     "data": {
      "text/plain": [
       "{'Airtel': [12, [12, 17, 25, 148, 156, 159, 172]],\n",
       " 'Fiber': [6, [1, 3, 5, 7, 19, 20]],\n",
       " 'Mercury': [15, [1, 2, 3, 7, 9, 10]],\n",
       " 'Samsung': [233, [2, 12, 34544, 34574, 35569]],\n",
       " 'Venus': [12, [23, 45, 78, 122, 145]]}"
      ]
     },
     "execution_count": 22,
     "metadata": {},
     "output_type": "execute_result"
    }
   ],
   "source": [
    "dict={'Samsung':[233,[2, 12, 34544, 34574, 35569]],'Airtel':[12,[12, 17, 25, 148, 156, 159, 172]],'Mercury':[15,[1, 2, 3, 7, 9, 10]],'Venus':[12,[23, 45, 78, 122, 145]],'Fiber':[6,[1, 3, 5, 7, 19, 20]]}\n",
    "dict"
   ]
  },
  {
   "cell_type": "markdown",
   "metadata": {
    "id": "Q1OC5wVfj8AM"
   },
   "source": [
    "#### Apply Binary coding for term “Mercury” (apply for all doc ids)\n"
   ]
  },
  {
   "cell_type": "code",
   "execution_count": null,
   "metadata": {
    "colab": {
     "base_uri": "https://localhost:8080/"
    },
    "id": "e_EifaOcj11f",
    "outputId": "8b9efbbc-9ae9-4046-a920-3cd358f5eaff"
   },
   "outputs": [
    {
     "name": "stdout",
     "output_type": "stream",
     "text": [
      "Before encoding: Mercury [15, [1, 2, 3, 7, 9, 10]]\n",
      "After encoding: Mercury [15, ['1', '10', '11', '111', '1001', '1010']]\n"
     ]
    }
   ],
   "source": [
    "print('Before encoding: Mercury',dict['Mercury'])\n",
    "for j in range(len(dict['Mercury'][1])):\n",
    "  b=bin(dict['Mercury'][1][j])\n",
    "  dict['Mercury'][1][j]=b[2:]\n",
    "  \n",
    "print('After encoding: Mercury',dict['Mercury'])"
   ]
  },
  {
   "cell_type": "markdown",
   "metadata": {
    "id": "C6gY3ASrlyz0"
   },
   "source": [
    "#### Apply Unary coding for term “Fiber”\n"
   ]
  },
  {
   "cell_type": "code",
   "execution_count": null,
   "metadata": {
    "colab": {
     "base_uri": "https://localhost:8080/"
    },
    "id": "wZZEooNekarh",
    "outputId": "f3c36f28-f783-4770-d850-286bb8145982"
   },
   "outputs": [
    {
     "name": "stdout",
     "output_type": "stream",
     "text": [
      "Before encoding: Fiber [6, [1, 3, 5, 7, 19, 20]]\n",
      "After encoding: Fiber [6, ['01', '0001', '000001', '00000001', '00000000000000000001', '000000000000000000001']]\n"
     ]
    }
   ],
   "source": [
    "print('Before encoding: Fiber',dict['Fiber'])\n",
    "for j in range(len(dict['Fiber'][1])):\n",
    "  b=dict['Fiber'][1][j]\n",
    "  c=''\n",
    "  for i in range(b+1):\n",
    "    if i == b:\n",
    "      c+=str(1)\n",
    "    else:\n",
    "      c+=str(0)\n",
    "  dict['Fiber'][1][j]=c\n",
    "  \n",
    "print('After encoding: Fiber',dict['Fiber'])"
   ]
  },
  {
   "cell_type": "markdown",
   "metadata": {
    "id": "Ajp6hviynKfF"
   },
   "source": [
    "#### Apply Elias Gamma Encoding for term “Airtel”\n"
   ]
  },
  {
   "cell_type": "code",
   "execution_count": null,
   "metadata": {
    "id": "CSg3ntz5oCpm"
   },
   "outputs": [],
   "source": [
    "from math import log\n",
    "log2=lambda x:log(x,2)\n",
    "def Unary(x):\n",
    "    return (x-1)*'0'+'1'\n",
    "\n",
    "def Binary(x, l=1):\n",
    "    s='{0:0%db}'%l\n",
    "    return s.format(x)\n",
    "      \n",
    "def Elias_Gamma(x):\n",
    "    if(x==0): \n",
    "        return '0'\n",
    "  \n",
    "    n=1+int(log2(x))\n",
    "    b=x-2**(int(log2(x)))\n",
    "  \n",
    "    l=int(log2(x))\n",
    "  \n",
    "    return Unary(n)+Binary(b,l)"
   ]
  },
  {
   "cell_type": "code",
   "execution_count": null,
   "metadata": {
    "colab": {
     "base_uri": "https://localhost:8080/"
    },
    "id": "wru5-KCspP97",
    "outputId": "76d19d13-09c6-4dfb-ee1d-1d823abadf26"
   },
   "outputs": [
    {
     "name": "stdout",
     "output_type": "stream",
     "text": [
      "Before encoding: Airtel [12, [12, 17, 25, 148, 156, 159, 172]]\n",
      "After encoding: Airtel [12, ['0001100', '000010001', '000011001', '000000010010100', '000000010011100', '000000010011111', '000000010101100']]\n"
     ]
    }
   ],
   "source": [
    "print('Before encoding: Airtel',dict['Airtel'])\n",
    "for j in range(len(dict['Airtel'][1])):\n",
    "  b=Elias_Gamma(dict['Airtel'][1][j])\n",
    "  dict['Airtel'][1][j]=b\n",
    "  \n",
    "print('After encoding: Airtel',dict['Airtel'])"
   ]
  },
  {
   "cell_type": "markdown",
   "metadata": {
    "id": "KWr-1d31p139"
   },
   "source": [
    "#### Apply Elias Delta Decoding for “000010000”\n"
   ]
  },
  {
   "cell_type": "code",
   "execution_count": null,
   "metadata": {
    "colab": {
     "base_uri": "https://localhost:8080/"
    },
    "id": "AyhdSd9qsVWX",
    "outputId": "dcac22c0-b9f5-4422-c5ce-e61d5e95dab3"
   },
   "outputs": [
    {
     "data": {
      "text/plain": [
       "1"
      ]
     },
     "execution_count": 29,
     "metadata": {},
     "output_type": "execute_result"
    }
   ],
   "source": [
    "s='000010000'\n",
    "import math\n",
    "  \n",
    "def  del_dec(x):\n",
    "    x = list(x)\n",
    "    i=0\n",
    "    while True:\n",
    "        if not x[i] == '0':\n",
    "            break\n",
    "        i+=1\n",
    "    x=x[2*i+1:] \n",
    "    x.insert(0,'1') \n",
    "    x.reverse()\n",
    "    n=0\n",
    "    for i in range(len(x)): \n",
    "        if x[i]=='1':\n",
    "            n=n+math.pow(2,i)\n",
    "    return int(n)\n",
    "  \n",
    "del_dec(s)"
   ]
  },
  {
   "cell_type": "markdown",
   "metadata": {
    "id": "iv-hj8nquZKV"
   },
   "source": [
    "#### Apply Elias Delta Encoding for term “Venus”"
   ]
  },
  {
   "cell_type": "code",
   "execution_count": null,
   "metadata": {
    "id": "n7xXDKbzvWDm"
   },
   "outputs": [],
   "source": [
    "from math import floor\n",
    "def no_msb(x):\n",
    "    binary = \"{0:b}\".format(int(x))\n",
    "    bin_no_msb = binary[1:]\n",
    "    return bin_no_msb\n",
    "\n",
    "def gam_enc(k):\n",
    "    if (k == 0):\n",
    "        return '0'\n",
    "    N = 1 + floor(log(k, 2))\n",
    "    Unary = (N-1)*'0'+'1'\n",
    "    return Unary + no_msb(k)\n",
    "\n",
    "def del_enc(x):\n",
    "    Gamma = gam_enc(1 + floor(log(x, 2)))\n",
    "    binary_without_MSB = no_msb(x)\n",
    "    return Gamma+binary_without_MSB"
   ]
  },
  {
   "cell_type": "code",
   "execution_count": null,
   "metadata": {
    "colab": {
     "base_uri": "https://localhost:8080/"
    },
    "id": "NC9jw_KIvNoj",
    "outputId": "53e8e1ff-8d64-4735-a533-e66206574501"
   },
   "outputs": [
    {
     "name": "stdout",
     "output_type": "stream",
     "text": [
      "Before encoding: Venus [12, [23, 45, 78, 122, 145]]\n",
      "After encoding: Venus [12, ['001010111', '0011001101', '00111001110', '00111111010', '00010000010001']]\n"
     ]
    }
   ],
   "source": [
    "print('Before encoding: Venus',dict['Venus'])\n",
    "for j in range(len(dict['Venus'][1])):\n",
    "  b=del_enc(dict['Venus'][1][j])\n",
    "  dict['Venus'][1][j]=b\n",
    "  \n",
    "print('After encoding: Venus',dict['Venus'])"
   ]
  },
  {
   "cell_type": "markdown",
   "metadata": {
    "id": "XOV6KDq6xaGO"
   },
   "source": [
    "#### Apply Elias Delta Decoding for “00101001”\n"
   ]
  },
  {
   "cell_type": "code",
   "execution_count": null,
   "metadata": {
    "colab": {
     "base_uri": "https://localhost:8080/"
    },
    "id": "uZJaBlo9xTuc",
    "outputId": "8dd0193a-748e-4383-b24f-e865d3c3ac7a"
   },
   "outputs": [
    {
     "data": {
      "text/plain": [
       "9"
      ]
     },
     "execution_count": 32,
     "metadata": {},
     "output_type": "execute_result"
    }
   ],
   "source": [
    "del_dec('00101001')"
   ]
  },
  {
   "cell_type": "markdown",
   "metadata": {
    "id": "upC7ArJByOZq"
   },
   "source": [
    "#### Apply Variable Byte Encoding for “Samsung”. (Use doc ids gap)"
   ]
  },
  {
   "cell_type": "code",
   "execution_count": null,
   "metadata": {
    "id": "GDhsgLsS4cVX"
   },
   "outputs": [],
   "source": [
    "from __future__ import division \n",
    "from struct import pack, unpack\n",
    "def encode_number(number):\n",
    "    bytes_list = []\n",
    "    while True:\n",
    "        bytes_list.insert(0, number % 128)\n",
    "        if number < 128:\n",
    "            break\n",
    "        number = number // 128\n",
    "    bytes_list[-1] += 128\n",
    "    return pack('%dB' % len(bytes_list), *bytes_list)\n",
    "\n",
    "def encode(numbers):\n",
    "    bytes_list = []\n",
    "    for number in numbers:\n",
    "        bytes_list.append(encode_number(number))\n",
    "    return b\"\".join(bytes_list)"
   ]
  },
  {
   "cell_type": "code",
   "execution_count": null,
   "metadata": {
    "id": "YaZxVomfEMbf"
   },
   "outputs": [],
   "source": [
    "dict={'Samsung':[233,[2, 12, 34544, 34574, 35569]],'Airtel':[12,[12, 17, 25, 148, 156, 159, 172]],'Mercury':[15,[1, 2, 3, 7, 9, 10]],'Venus':[12,[23, 45, 78, 122, 145]],'Fiber':[6,[1, 3, 5, 7, 19, 20]]}"
   ]
  },
  {
   "cell_type": "code",
   "execution_count": null,
   "metadata": {
    "colab": {
     "base_uri": "https://localhost:8080/"
    },
    "id": "7RHEUNFW_xVu",
    "outputId": "c2cc7fef-6ac7-4826-9c78-3043a9d23d17"
   },
   "outputs": [
    {
     "name": "stdout",
     "output_type": "stream",
     "text": [
      "Variable byte encoding for 'Samsung' is: b'\\x82\\x8c\\x02\\r\\xf0\\x02\\x0e\\x8e\\x02\\x15\\xf1'\n"
     ]
    }
   ],
   "source": [
    "print(\"Variable byte encoding for 'Samsung' is:\",encode(dict['Samsung'][1]))"
   ]
  },
  {
   "cell_type": "code",
   "execution_count": null,
   "metadata": {
    "id": "L79aAUJFCcU5"
   },
   "outputs": [],
   "source": []
  }
 ],
 "metadata": {
  "colab": {
   "collapsed_sections": [],
   "name": "web_lab_5.ipynb",
   "provenance": []
  },
  "kernelspec": {
   "display_name": "Python 3 (ipykernel)",
   "language": "python",
   "name": "python3"
  },
  "language_info": {
   "codemirror_mode": {
    "name": "ipython",
    "version": 3
   },
   "file_extension": ".py",
   "mimetype": "text/x-python",
   "name": "python",
   "nbconvert_exporter": "python",
   "pygments_lexer": "ipython3",
   "version": "3.9.7"
  }
 },
 "nbformat": 4,
 "nbformat_minor": 1
}
