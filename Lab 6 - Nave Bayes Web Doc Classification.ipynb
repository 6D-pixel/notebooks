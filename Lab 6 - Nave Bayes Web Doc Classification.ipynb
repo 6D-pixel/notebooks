{
 "cells": [
  {
   "cell_type": "markdown",
   "metadata": {
    "id": "MJOz6DPu45hb"
   },
   "source": [
    "# **Question 1**"
   ]
  },
  {
   "cell_type": "code",
   "execution_count": null,
   "metadata": {
    "id": "Tpszl_8D8jp2"
   },
   "outputs": [],
   "source": [
    "import pandas as pd\n",
    "import numpy as np\n",
    "import seaborn as sns\n",
    "import matplotlib.pyplot as plt"
   ]
  },
  {
   "cell_type": "code",
   "execution_count": null,
   "metadata": {
    "colab": {
     "base_uri": "https://localhost:8080/",
     "height": 331
    },
    "id": "fiFQsZy78pBb",
    "outputId": "c239d208-914c-48b8-9830-4fcfe8fb139a"
   },
   "outputs": [
    {
     "name": "stdout",
     "output_type": "stream",
     "text": [
      "length= 10 \n",
      "pos_count 0 \n",
      "neg_count 0\n"
     ]
    },
    {
     "data": {
      "image/png": "[encoded data removed]",
      "text/plain": [
       "<Figure size 432x288 with 1 Axes>"
      ]
     },
     "metadata": {
      "needs_background": "light"
     },
     "output_type": "display_data"
    }
   ],
   "source": [
    "df = pd.read_csv('/dataset/data1.txt', sep='\\t',names=['sentiment', 'document'])\n",
    "df\n",
    "length = len(df)\n",
    "pos_count = len(df[df['sentiment'] == 1]) # positive_sentiment count\n",
    "neg_count = len(df[df['sentiment'] == 0]) # negative_sentiment count\n",
    "print ('length=', length,'\\npos_count',pos_count,'\\nneg_count',neg_count,)   \n",
    "sns.countplot(y=\"sentiment\",data=df)#plotting the data\n",
    "plt.show()"
   ]
  },
  {
   "cell_type": "code",
   "execution_count": null,
   "metadata": {
    "id": "FnRh4BIh4soK"
   },
   "outputs": [],
   "source": [
    "def sentence_to_words(sentence):\n",
    "  l = sentence.lower() #convert sentence to lowercase\n",
    "  l = l.split() #split sentence into individual word\n",
    "  p = ''\n",
    "  word_list = []\n",
    "\n",
    "  for word in l:\n",
    "    p = ''\n",
    "    for letter in word:\n",
    "      if ord(letter) >= 67 and ord(letter) <= 122:\n",
    "        p = p + letter\n",
    "        word_list.append(p)\n",
    "  return word_list #return the word list of the sentence devoid of special characters and numericals\n",
    "\n",
    "def naive_bayes_train(X, Y, a=0.000001):\n",
    "  n_length = len(X)\n",
    "  n_class_pos = len(Y[Y == 1])\n",
    "  n_class_neg = len(Y[Y == 0])\n",
    "  prior_pos = n_class_pos / n_length #prior probability for  class\n",
    "  prior_neg = n_class_neg / n_length #prior probability for class \n",
    "  (n, p, bag) = bag_of_words_maker(X, Y)\n",
    "\n",
    "  pr = {}\n",
    "\n",
    "  for i in range(len(bag)): #evaluating the likelihood prob for each word given a class\n",
    "    p_pos = (bag['count_pos'][i] + a) / (p + len(bag) * a)\n",
    "\n",
    "    p_neg = (bag['count_neg'][i] + a) / (n + len(bag) * a)\n",
    "\n",
    "    pr[bag['index'][i]] = [p_pos, p_neg]\n",
    "    pr = pd.DataFrame(pr).T\n",
    "    pr.columns = ['sent=positive', 'sent=negative']\n",
    "    pr = pr.reset_index()\n",
    "\n",
    "    return (prior_pos, prior_neg, pr)\n",
    "\n",
    "def naive_bayes_predict( X,pr,prior_pos,prior_neg,):\n",
    "  Y = []\n",
    "  for i in range(len(X)):\n",
    "    k_pos = 1\n",
    "    k_neg = 1\n",
    "    p = sentence_to_words(X[i])\n",
    "    for k in range(len(pr)):\n",
    "      for word in p:\n",
    "        if word == pr['index'][k]:\n",
    "          k_pos = k_pos * pr['sent=positive'][k] #pdt of likelihood prob given the word is present in vocabulary \n",
    "          k_neg = k_neg * pr['sent=negative'][k]\n",
    "    nb = [prior_neg * k_neg, prior_pos * k_pos] # multiply each likelihood prob with the prior prob\n",
    "    Y.append(np.argmax(nb))\n",
    "  return Y\n",
    "\n",
    "def bag_of_words_maker(X, Y):\n",
    "  bag_dict_binary_NB_pos = {} #keeping track of the positive class words\n",
    "  bag_dict_binary_NB_neg = {} #keeping track of the negative class words\n",
    "  stop_words = ['the','is','a','was','it','food','This','and', '','i''I','am','of','that',]\n",
    "  for i in range(len(X)):\n",
    "     p = sentence_to_words(X[i])\n",
    "     sent = Y[i]\n",
    "     x_pos = {}\n",
    "     x_neg = {} #we intialize the dict every iteration so that it does not consider repititions .(Binary NB)\n",
    "     if sent == 1:\n",
    "       for word in p:\n",
    "         if word in x_pos.keys():\n",
    "            x_pos[word] = [x_pos[word][0] + 1, x_pos[word][1]] #word is the key and value stored is [count, sentiment]\n",
    "         else:\n",
    "           x_pos[word] = [1, sent]\n",
    "           \n",
    "       for key in x_pos.keys():\n",
    "         if key in bag_dict_binary_NB_pos.keys():\n",
    "           bag_dict_binary_NB_pos[key] = \\\n",
    "           [bag_dict_binary_NB_pos[key][0] + 1,\n",
    "                bag_dict_binary_NB_pos[key][1]]\n",
    "         else:\n",
    "           bag_dict_binary_NB_pos[key] = [1, sent] #storing it in the final dict \n",
    "                  \n",
    "     if sent == 0:\n",
    "       for word in p:\n",
    "         if word in x_neg.keys():\n",
    "           x_neg[word] = [x_neg[word][0] + 1, x_neg[word][1]]\n",
    "         else:\n",
    "           x_neg[word] = [1, sent]\n",
    "       for key in x_neg.keys():\n",
    "         if key in bag_dict_binary_NB_neg.keys():\n",
    "           bag_dict_binary_NB_neg[key] = \\\n",
    "           [bag_dict_binary_NB_neg[key][0] + 1,\n",
    "           bag_dict_binary_NB_neg[key][1]]\n",
    "         else:\n",
    "           bag_dict_binary_NB_neg[key] = [1, sent]\n",
    "\n",
    "x = df['document']\n",
    "y = df['sentiment']\n",
    "(n, p, bag_of_words) = bag_of_words_maker(x, y)\n",
    "print (n, ' ', p)\n",
    "bag_of_words.head(5)\n",
    "prior_pos,prior_neg,table = naive_bayes_train(x,y)\n",
    "table.head(5)\n",
    "from sklearn.model_selection import train_test_split\n",
    "\n",
    "X = df[\"document\"]\n",
    "Y = df[\"sentiment\"]\n",
    "x_train, x_test, y_train, y_test = train_test_split(X,Y,)\n",
    "\n",
    "x_train = x_train.reset_index(drop=True)\n",
    "y_train = y_train.reset_index(drop=True)\n",
    "y_test = y_test.reset_index(drop=True)\n",
    "x_test = x_test.reset_index(drop=True)\n",
    "a,b,bag = naive_bayes_train(x_train,y_train)\n",
    "y_predicted = naive_bayes_predict(x_test,bag,a,b)\n",
    "y_predicted\n",
    "from sklearn.metrics import accuracy_score, confusion_matrix\n",
    "print ('Accuracy=', accuracy_score(y_test, np.array(y_predicted)))\n",
    "\n",
    "(tn, fp, fn, tp) = confusion_matrix(y_test,np.array(y_predicted)).ravel()\n",
    "\n",
    "print ('precsion=', tp / (tp + fp))\n",
    "print ('recall=', tp / (tp + fn))"
   ]
  },
  {
   "cell_type": "code",
   "execution_count": null,
   "metadata": {
    "id": "PkSKXC_fENbA"
   },
   "outputs": [],
   "source": [
    "#printing the training data\n",
    "train_tb = PrettyTable([\"training data\", \"Labels\"])\n",
    "for i in range (0, len(training_data)):\n",
    "  train_tb. add_row([training_data[i], training_data_labels[i])\n",
    "print(train_tb)"
   ]
  },
  {
   "cell_type": "code",
   "execution_count": null,
   "metadata": {
    "id": "8mXXFjNBEOj5"
   },
   "outputs": [],
   "source": [
    "final_tb = PrettyTable([\"Testing Data\", \"Label\"])\n",
    "for i in range(0,len(testing_data)):\n",
    "  final_tb. add_row([testing_data[i], testing_data_labels[i]])\n",
    "print(final_tb)\n"
   ]
  },
  {
   "cell_type": "markdown",
   "metadata": {
    "id": "ZjellS5C48gs"
   },
   "source": [
    "# **Question 2**"
   ]
  },
  {
   "cell_type": "code",
   "execution_count": null,
   "metadata": {
    "colab": {
     "base_uri": "https://localhost:8080/"
    },
    "id": "FYDKFihu44Bd",
    "outputId": "54e40fa8-4dcd-4471-e8a8-55d939291130"
   },
   "outputs": [
    {
     "name": "stdout",
     "output_type": "stream",
     "text": [
      "<class 'pandas.core.frame.DataFrame'>\n",
      "RangeIndex: 7 entries, 0 to 6\n",
      "Data columns (total 9 columns):\n",
      " #   Column    Non-Null Count  Dtype \n",
      "---  ------    --------------  ----- \n",
      " 0   TDF       7 non-null      int64 \n",
      " 1   Nifty     7 non-null      int64 \n",
      " 2   Sidhu     7 non-null      int64 \n",
      " 3   BJP       7 non-null      int64 \n",
      " 4   Sensex    7 non-null      int64 \n",
      " 5   Sixer     7 non-null      int64 \n",
      " 6   Congress  7 non-null      int64 \n",
      " 7   Century   7 non-null      int64 \n",
      " 8   Category  7 non-null      object\n",
      "dtypes: int64(8), object(1)\n",
      "memory usage: 632.0+ bytes\n",
      "['Politics' 'Business' 'Sports']\n",
      "['TDF', 'Nifty', 'Sidhu', 'BJP', 'Sensex', 'Sixer', 'Congress', 'Century']\n",
      "7\n",
      "{'Politics': 0.42857142857142855, 'Business': 0.2857142857142857, 'Sports': 0.2857142857142857}\n"
     ]
    }
   ],
   "source": [
    "import numpy as np\n",
    "import pandas as pd\n",
    "from csv import reader\n",
    "data = pd. read_csv(r'/dataset/data2.csv')\n",
    "data . info()\n",
    "data. columns\n",
    "data. head (10)\n",
    "query_data= [[4,0,2,0,1, 0, 6,0], [0, 0,2,0, 0, 9, 0,9], [5,0,2,5, 0,9,0,9]]\n",
    "outputlabels = data[ 'Category' ]. unique()\n",
    "words = list(data. columns) [: -1]\n",
    "numtraindocuments = data. shape[0]\n",
    "print (outputlabels)\n",
    "print (words)\n",
    "print (numtraindocuments)\n",
    "conditional_probability = {}\n",
    "probability = {}\n",
    "for outputClass in outputlabels:\n",
    "   temp_dataframe=data.loc[data['Category']==outputClass ]\n",
    "   probability [outputClass ]=(temp_dataframe. shape[0]/numtraindocuments)\n",
    "\n",
    "print (probability)\n",
    "ALPHA=1\n",
    "for outputClass in outputlabels :\n",
    "   temp_dataframe = data. loc[data[ 'Category' ]==outputClass]\n",
    "   total_word_count_in_category =0\n",
    "   for i in range(temp_dataframe. shape[0]) :\n",
    "     for word in words:\n",
    "         total_word_count_in_category+= temp_dataframe. iloc[i][word]\n",
    "   for word in words :\n",
    "      current_word_count_in_category =0\n",
    "      for i in range(temp_dataframe. shape[0]) :\n",
    "         current_word_count_in_category += temp_dataframe. iloc[i] [word]\n",
    "         cur_prob = (current_word_count_in_category + ALPHA) / (total_word_count_in_category)\n",
    "         conditional_probability [(word, outputClass) ] = cur_prob"
   ]
  },
  {
   "cell_type": "code",
   "execution_count": null,
   "metadata": {
    "colab": {
     "base_uri": "https://localhost:8080/"
    },
    "id": "6xa3s-9RHa7o",
    "outputId": "8177fecb-7518-477e-f214-5f48d62fd67f"
   },
   "outputs": [
    {
     "name": "stdout",
     "output_type": "stream",
     "text": [
      "Conditional probability after applying smoothing\n",
      "\n"
     ]
    },
    {
     "data": {
      "text/plain": [
       "{('BJP', 'Business'): 0.18518518518518517,\n",
       " ('BJP', 'Politics'): 0.2222222222222222,\n",
       " ('BJP', 'Sports'): 0.08,\n",
       " ('Century', 'Business'): 0.07407407407407407,\n",
       " ('Century', 'Politics'): 0.022222222222222223,\n",
       " ('Century', 'Sports'): 0.36,\n",
       " ('Congress', 'Business'): 0.07407407407407407,\n",
       " ('Congress', 'Politics'): 0.4,\n",
       " ('Congress', 'Sports'): 0.08,\n",
       " ('Nifty', 'Business'): 0.37037037037037035,\n",
       " ('Nifty', 'Politics'): 0.044444444444444446,\n",
       " ('Nifty', 'Sports'): 0.04,\n",
       " ('Sensex', 'Business'): 0.48148148148148145,\n",
       " ('Sensex', 'Politics'): 0.06666666666666667,\n",
       " ('Sensex', 'Sports'): 0.04,\n",
       " ('Sidhu', 'Business'): 0.037037037037037035,\n",
       " ('Sidhu', 'Politics'): 0.08888888888888889,\n",
       " ('Sidhu', 'Sports'): 0.28,\n",
       " ('Sixer', 'Business'): 0.037037037037037035,\n",
       " ('Sixer', 'Politics'): 0.022222222222222223,\n",
       " ('Sixer', 'Sports'): 0.4,\n",
       " ('TDF', 'Business'): 0.037037037037037035,\n",
       " ('TDF', 'Politics'): 0.3111111111111111,\n",
       " ('TDF', 'Sports'): 0.04}"
      ]
     },
     "execution_count": 18,
     "metadata": {},
     "output_type": "execute_result"
    }
   ],
   "source": [
    "print(\"Conditional probability after applying smoothing\\n\")\n",
    "conditional_probability"
   ]
  }
 ],
 "metadata": {
  "colab": {
   "name": "19BCE1072_Yugan S_Lab-6.ipynb",
   "provenance": []
  },
  "kernelspec": {
   "display_name": "Python 3 (ipykernel)",
   "language": "python",
   "name": "python3"
  },
  "language_info": {
   "codemirror_mode": {
    "name": "ipython",
    "version": 3
   },
   "file_extension": ".py",
   "mimetype": "text/x-python",
   "name": "python",
   "nbconvert_exporter": "python",
   "pygments_lexer": "ipython3",
   "version": "3.9.7"
  }
 },
 "nbformat": 4,
 "nbformat_minor": 1
}
