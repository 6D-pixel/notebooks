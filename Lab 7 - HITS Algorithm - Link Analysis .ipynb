{
 "cells": [
  {
   "cell_type": "markdown",
   "metadata": {
    "id": "wjoZAX1vCn2U"
   },
   "source": [
    "# **1. Custom Implementation**"
   ]
  },
  {
   "cell_type": "code",
   "execution_count": null,
   "metadata": {
    "id": "O7BWS9Cu3zvQ"
   },
   "outputs": [],
   "source": [
    "nodes=['A','B','C','D','E']"
   ]
  },
  {
   "cell_type": "code",
   "execution_count": null,
   "metadata": {
    "colab": {
     "base_uri": "https://localhost:8080/"
    },
    "id": "q3JKZbb0wkhv",
    "outputId": "074c49c8-9d65-45c3-dfdb-4011341198f4"
   },
   "outputs": [
    {
     "data": {
      "text/plain": [
       "[[1, 0, 0, 0, 0],\n",
       " [1, 0, 1, 0, 1],\n",
       " [1, 0, 0, 1, 1],\n",
       " [1, 0, 0, 0, 0],\n",
       " [1, 0, 0, 0, 1]]"
      ]
     },
     "execution_count": 112,
     "metadata": {},
     "output_type": "execute_result"
    }
   ],
   "source": [
    "adj_matrix=[\n",
    "            [1,0,0,0,0],\n",
    "            [1,0,1,0,1],\n",
    "            [1,0,0,1,1],\n",
    "            [1,0,0,0,0],\n",
    "            [1,0,0,0,1]\n",
    "]\n",
    "adj_matrix"
   ]
  },
  {
   "cell_type": "code",
   "execution_count": null,
   "metadata": {
    "colab": {
     "base_uri": "https://localhost:8080/"
    },
    "id": "P_v4WG2Pyt3e",
    "outputId": "e4d28835-2ca4-4e16-9760-af14a391fcff"
   },
   "outputs": [
    {
     "name": "stdout",
     "output_type": "stream",
     "text": [
      "number of outbound degrees: [1, 3, 3, 1, 2] \n",
      "number of inbound degrees: [4, 0, 1, 1, 2]\n"
     ]
    }
   ],
   "source": [
    "#finding counts of inbound and outbound degree\n",
    "ob=[]\n",
    "ib=[]\n",
    "\n",
    "for i in range(5):\n",
    "  o_s=0\n",
    "  i_s=0\n",
    "  for j in range(5):\n",
    "    if adj_matrix[i][j]==1:\n",
    "      o_s+=1\n",
    "    elif adj_matrix[j][i]==1:\n",
    "      i_s+=1\n",
    "  ob.append(o_s)\n",
    "  ib.append(i_s)\n",
    "\n",
    "print(\"number of outbound degrees:\",ob,\"\\nnumber of inbound degrees:\",ib)"
   ]
  },
  {
   "cell_type": "code",
   "execution_count": null,
   "metadata": {
    "colab": {
     "base_uri": "https://localhost:8080/"
    },
    "id": "LQodgLDO4xdb",
    "outputId": "a73a6927-da14-4d26-8baa-ba146e974c28"
   },
   "outputs": [
    {
     "name": "stdout",
     "output_type": "stream",
     "text": [
      "Initial hub ranks:\n",
      "C\n",
      "B\n",
      "E\n",
      "D\n",
      "A\n",
      "\n",
      "Initial authority ranks:\n",
      "A\n",
      "E\n",
      "D\n",
      "C\n",
      "B\n"
     ]
    }
   ],
   "source": [
    "import numpy as np\n",
    "s=np.array(ob)\n",
    "s=np.argsort(s)\n",
    "print(\"Initial hub ranks:\")\n",
    "for i in reversed(s):\n",
    "  print(nodes[i])\n",
    "\n",
    "\n",
    "s=np.array(ib)\n",
    "s=np.argsort(s)\n",
    "print(\"\\nInitial authority ranks:\")\n",
    "for i in reversed(s):\n",
    "  print(nodes[i])"
   ]
  },
  {
   "cell_type": "code",
   "execution_count": null,
   "metadata": {
    "colab": {
     "base_uri": "https://localhost:8080/"
    },
    "id": "TVOyzGQm5fGh",
    "outputId": "db30db0b-ee4d-43d2-f31c-40d5f5aa350e"
   },
   "outputs": [
    {
     "name": "stdout",
     "output_type": "stream",
     "text": [
      "Authority weight vector: [5, 0, 1, 1, 3]\n",
      "Hub weight vector: [5, 9, 9, 5, 8]\n"
     ]
    }
   ],
   "source": [
    "#calculating authority weight and hub weight vector\n",
    "u=[[1,1,1,1,1]]\n",
    "aut=[[0,0,0,0,0]]\n",
    "hub=[[0,0,0,0,0]]\n",
    "for i in range(5):\n",
    "  for j in range(1):\n",
    "    for m in range(5):\n",
    "      aut[j][i]+=adj_matrix[m][i]*u[j][m]\n",
    "\n",
    "for i in range(5):\n",
    "  for j in range(1):\n",
    "    for m in range(5):\n",
    "      hub[j][i]+=adj_matrix[i][m]*aut[j][m]\n",
    "\n",
    "aut=aut[0]\n",
    "hub=hub[0]\n",
    "print(\"Authority weight vector:\",aut)\n",
    "print(\"Hub weight vector:\",hub)"
   ]
  },
  {
   "cell_type": "code",
   "execution_count": null,
   "metadata": {
    "id": "TbbwL08F7B7u"
   },
   "outputs": [],
   "source": [
    "k=4\n",
    "import math\n",
    "for _ in range(k):\n",
    "  aut1=aut\n",
    "  hub1=hub\n",
    "\n",
    "  #normalizing\n",
    "  aut_n=math.sqrt(sum([i**2 for i in aut]))\n",
    "  hub_n=math.sqrt(sum([i**2 for i in hub]))\n",
    "\n",
    "  for i in range(5):\n",
    "    aut[i]=aut[i]/aut_n\n",
    "    hub[i]=hub[i]/hub_n"
   ]
  },
  {
   "cell_type": "code",
   "execution_count": null,
   "metadata": {
    "colab": {
     "base_uri": "https://localhost:8080/"
    },
    "id": "oSKU792n-p_7",
    "outputId": "ce0c5286-920e-46f3-88d1-22fa247a52f3"
   },
   "outputs": [
    {
     "name": "stdout",
     "output_type": "stream",
     "text": [
      "Authority scores of the nodes after 4 iterations : \n",
      "A  :  0.8333333333333334\n",
      "B  :  0.0\n",
      "C  :  0.16666666666666666\n",
      "D  :  0.16666666666666666\n",
      "E  :  0.5\n"
     ]
    }
   ],
   "source": [
    "print(f\"Authority scores of the nodes after {k} iterations : \") \n",
    "for i in range(5) :\n",
    "    print(nodes[i], \" : \", aut[i])"
   ]
  },
  {
   "cell_type": "code",
   "execution_count": null,
   "metadata": {
    "colab": {
     "base_uri": "https://localhost:8080/"
    },
    "id": "dpHWYmbvAxLe",
    "outputId": "a28075fa-9897-4419-ce26-0560819ae947"
   },
   "outputs": [
    {
     "name": "stdout",
     "output_type": "stream",
     "text": [
      "Hub scores of the nodes after 4 iterations : \n",
      "A  :  0.30096463271442303\n",
      "B  :  0.5417363388859615\n",
      "C  :  0.5417363388859615\n",
      "D  :  0.30096463271442303\n",
      "E  :  0.4815434123430768\n"
     ]
    }
   ],
   "source": [
    "print(f\"Hub scores of the nodes after {k} iterations : \") \n",
    "for i in range(5) :\n",
    "    print(nodes[i], \" : \", hub[i])"
   ]
  },
  {
   "cell_type": "markdown",
   "metadata": {
    "id": "JABSw-smCty2"
   },
   "source": [
    "# **2. Inbuild HITS Algorithm**"
   ]
  },
  {
   "cell_type": "code",
   "execution_count": null,
   "metadata": {
    "id": "PZ6kXJm3AxvO"
   },
   "outputs": [],
   "source": [
    "import networkx as nx\n",
    "import matplotlib.pyplot as plt"
   ]
  },
  {
   "cell_type": "code",
   "execution_count": null,
   "metadata": {
    "colab": {
     "base_uri": "https://localhost:8080/",
     "height": 303
    },
    "id": "_-HMesoxDChE",
    "outputId": "465589ec-4bfe-495a-c5f6-4fc92c508708"
   },
   "outputs": [
    {
     "data": {
      "image/png": "[encoded data removed]",
      "text/plain": [
       "<Figure size 360x360 with 1 Axes>"
      ]
     },
     "metadata": {},
     "output_type": "display_data"
    }
   ],
   "source": [
    "G=nx.DiGraph()\n",
    "G.add_edges_from([('A', 'A'), ('B', 'A'), ('B', 'C'), ('B', 'E'),\n",
    "                  ('C', 'D'), ('C', 'A'), ('C', 'E'), ('D', 'A'),\n",
    "                  ('E', 'A'), ('E', 'E')])\n",
    "plt.figure(figsize =(5, 5))\n",
    "nx.draw_networkx(G, with_labels = True)"
   ]
  },
  {
   "cell_type": "code",
   "execution_count": null,
   "metadata": {
    "id": "lR2a8TL-DGM0"
   },
   "outputs": [],
   "source": [
    "hubs, auth = nx.hits(G, max_iter = k, normalized = True)"
   ]
  },
  {
   "cell_type": "code",
   "execution_count": null,
   "metadata": {
    "colab": {
     "base_uri": "https://localhost:8080/"
    },
    "id": "KX5cTl_rD0q0",
    "outputId": "12bb7e55-47b3-4141-9c85-cfe795a6b7d3"
   },
   "outputs": [
    {
     "name": "stdout",
     "output_type": "stream",
     "text": [
      "Authority scores of the nodes after 4 iterations : \n",
      "A : 0.44280260848972464\n",
      "B : 0.0\n",
      "C : 0.11439478302055081\n",
      "E : 0.32840782546917385\n",
      "D : 0.1143947830205508\n"
     ]
    }
   ],
   "source": [
    "print(f\"Authority scores of the nodes after {k} iterations : \") \n",
    "for i in auth:\n",
    "  print(i,\":\",auth[i])"
   ]
  },
  {
   "cell_type": "code",
   "execution_count": null,
   "metadata": {
    "colab": {
     "base_uri": "https://localhost:8080/"
    },
    "id": "ZKBgjCLcD_zh",
    "outputId": "ef73fd6e-b7dc-4411-ec16-9a6ca0adefd8"
   },
   "outputs": [
    {
     "name": "stdout",
     "output_type": "stream",
     "text": [
      "Hub scores of the nodes after 4 iterations : \n",
      "A : 0.1291713066130293\n",
      "B : 0.2583426132260586\n",
      "C : 0.2583426132260586\n",
      "E : 0.22497216032182416\n",
      "D : 0.1291713066130293\n"
     ]
    }
   ],
   "source": [
    "print(f\"Hub scores of the nodes after {k} iterations : \") \n",
    "for i in hubs:\n",
    "  print(i,\":\",hubs[i])"
   ]
  },
  {
   "cell_type": "markdown",
   "metadata": {
    "id": "zXRmfqccE4lY"
   },
   "source": [
    "**Conclusion: Program executed successfully and observed that the authority and hubs score are in similar order in both Custom implementation and Inbuild HITS algorithms.**"
   ]
  }
 ],
 "metadata": {
  "colab": {
   "collapsed_sections": [],
   "name": "19BCE1072_Yugan_S_Lab_7.ipynb",
   "provenance": []
  },
  "kernelspec": {
   "display_name": "Python 3 (ipykernel)",
   "language": "python",
   "name": "python3"
  },
  "language_info": {
   "codemirror_mode": {
    "name": "ipython",
    "version": 3
   },
   "file_extension": ".py",
   "mimetype": "text/x-python",
   "name": "python",
   "nbconvert_exporter": "python",
   "pygments_lexer": "ipython3",
   "version": "3.9.7"
  }
 },
 "nbformat": 4,
 "nbformat_minor": 1
}
