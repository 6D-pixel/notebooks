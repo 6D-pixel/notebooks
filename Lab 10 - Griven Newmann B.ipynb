{
 "cells": [
  {
   "cell_type": "markdown",
   "id": "g2Bf2GNAE8EL",
   "metadata": {
    "id": "g2Bf2GNAE8EL"
   },
   "source": [
    "**Facebook Friend Connection network - for custom implementation**"
   ]
  },
  {
   "cell_type": "code",
   "execution_count": null,
   "id": "a36275c0",
   "metadata": {
    "id": "a36275c0"
   },
   "outputs": [],
   "source": [
    "import networkx as nx\n",
    "import community as c\n",
    "import matplotlib.pyplot as plt\n",
    "import sys\n",
    "import pylab\n",
    "import copy\n",
    "\n",
    "pylab.show()"
   ]
  },
  {
   "cell_type": "code",
   "execution_count": null,
   "id": "3fe0fbdf",
   "metadata": {
    "id": "3fe0fbdf"
   },
   "outputs": [],
   "source": [
    "def removeEdges(G): \n",
    "\tremove = [] #stores edges having maximum betweenness which needs to be removed from graph\n",
    "\tb = nx.edge_betweenness_centrality(G)\n",
    "\tmax_betweenness = b[max(b,key=b.get)]\n",
    "\tfor k,v in b.items():\n",
    "\t    if v==max_betweenness:\n",
    "\t        remove.append(k)\n",
    "\t\n",
    "\tG.remove_edges_from(remove) # remove edges from G with max betwenness\n",
    "\tgraphs = list(nx.connected_components(G))\n",
    "\n",
    "\td={}\n",
    "\tcounter = 0\n",
    "\tfor graph in graphs:\n",
    "\t\tcounter+=1\n",
    "\t\tfor node in graph:\n",
    "\t\t\td[node]=counter\n",
    "\n",
    "\tif G.number_of_edges() == 0:\n",
    "\t\treturn [list(nx.connected_components(G)),0,G]\n",
    "\n",
    "\tmodularity = c.modularity(d,G)\n",
    "\treturn [list(nx.connected_components(G)),modularity,G]"
   ]
  },
  {
   "cell_type": "code",
   "execution_count": null,
   "id": "beyYyCSGFEzr",
   "metadata": {
    "id": "beyYyCSGFEzr"
   },
   "outputs": [],
   "source": [
    "result_communities=[]\n",
    "fh = open(\"input.txt\", \"rb\")\n",
    "G = nx.read_edgelist(fh)\n",
    "fh.close()\n",
    "copyGraph = copy.deepcopy(G)"
   ]
  },
  {
   "cell_type": "code",
   "execution_count": null,
   "id": "8nTTma8GFExD",
   "metadata": {
    "id": "8nTTma8GFExD"
   },
   "outputs": [],
   "source": [
    "d={}\n",
    "for node in G:\n",
    "  d[node]=0\t"
   ]
  },
  {
   "cell_type": "code",
   "execution_count": null,
   "id": "O624zmiiFEud",
   "metadata": {
    "id": "O624zmiiFEud"
   },
   "outputs": [],
   "source": [
    "initial_modularity = c.modularity(d,G)\n",
    "result_communities.append([d,initial_modularity,G])"
   ]
  },
  {
   "cell_type": "code",
   "execution_count": null,
   "id": "vlk2oxAeFEsI",
   "metadata": {
    "id": "vlk2oxAeFEsI"
   },
   "outputs": [],
   "source": [
    "while G.number_of_edges()>0:\n",
    "\t\tsubgraphs = removeEdges(G)\n",
    "\t\tresult_communities.append(subgraphs)\n",
    "\t\tG=subgraphs[-1]"
   ]
  },
  {
   "cell_type": "code",
   "execution_count": null,
   "id": "WjorUHkaFEpi",
   "metadata": {
    "id": "WjorUHkaFEpi"
   },
   "outputs": [],
   "source": [
    "for step in result_communities:\n",
    "\t\tif step[1]>initial_modularity:\n",
    "\t\t\tng=step[0]\n",
    "\t\t\tresult=[]\n",
    "\t\t\tmodularity=step[1]\n",
    "\t\t\t\n",
    "\t\t\tfor graph in step[0]:\n",
    "\t\t\t\tresult.append(sorted([int(vertex) for vertex in graph]))"
   ]
  },
  {
   "cell_type": "code",
   "execution_count": null,
   "id": "2N5MlzqrFEnb",
   "metadata": {
    "colab": {
     "base_uri": "https://localhost:8080/"
    },
    "id": "2N5MlzqrFEnb",
    "outputId": "73d92efa-5115-4a68-bad3-70f6c8d3ed9d"
   },
   "outputs": [
    {
     "name": "stdout",
     "output_type": "stream",
     "text": [
      "[1, 2, 3]\n",
      "[7]\n",
      "[4, 5, 6]\n",
      "[8]\n",
      "[9, 10, 11]\n",
      "[12, 13, 14]\n"
     ]
    }
   ],
   "source": [
    "for community in result:\n",
    "\t\tprint(community)"
   ]
  },
  {
   "cell_type": "code",
   "execution_count": null,
   "id": "4y9S7yFYGQJf",
   "metadata": {
    "id": "4y9S7yFYGQJf"
   },
   "outputs": [],
   "source": [
    "d={}\n",
    "counter=0\n",
    "\t\n",
    "for graph in ng:\n",
    "\tfor node in graph:\n",
    "\t\td[node] = counter \n",
    "\tcounter+=1"
   ]
  },
  {
   "cell_type": "code",
   "execution_count": null,
   "id": "fKuuFBz1GQHJ",
   "metadata": {
    "colab": {
     "base_uri": "https://localhost:8080/",
     "height": 317
    },
    "id": "fKuuFBz1GQHJ",
    "outputId": "c28507bb-10a8-48e6-9271-c1c296938ca6"
   },
   "outputs": [
    {
     "data": {
      "text/plain": [
       "(-0.9720224241605745,\n",
       " 0.9749338203781963,\n",
       " -1.191076267509067,\n",
       " 1.2082018172746172)"
      ]
     },
     "execution_count": 24,
     "metadata": {},
     "output_type": "execute_result"
    },
    {
     "data": {
      "image/png": "[encoded data removed]",
      "text/plain": [
       "<Figure size 432x288 with 1 Axes>"
      ]
     },
     "metadata": {},
     "output_type": "display_data"
    }
   ],
   "source": [
    "pos=nx.spring_layout(copyGraph)\n",
    "colors = [\"violet\",\"black\",\"orange\",\"cyan\",\"red\",\"blue\",\"green\",\"yellow\",\"indigo\",\"pink\"]\n",
    "for i in range(len(ng)):\n",
    "\tgraph=ng[i]\n",
    "\tnlist = [node for node in graph]\n",
    "\tnx.draw_networkx_nodes(copyGraph,pos,nodelist=nlist,node_color=colors[i%10],node_size=500,alpha=0.8)\n",
    "\n",
    "nx.draw_networkx_edges(copyGraph,pos)\n",
    "nx.draw_networkx_labels(copyGraph,pos,font_size=10)\n",
    "plt.axis('off')"
   ]
  }
 ],
 "metadata": {
  "colab": {
   "name": "19BCE1072_Yugan S_Lab-10 Part B.ipynb",
   "provenance": []
  },
  "kernelspec": {
   "display_name": "Python 3 (ipykernel)",
   "language": "python",
   "name": "python3"
  },
  "language_info": {
   "codemirror_mode": {
    "name": "ipython",
    "version": 3
   },
   "file_extension": ".py",
   "mimetype": "text/x-python",
   "name": "python",
   "nbconvert_exporter": "python",
   "pygments_lexer": "ipython3",
   "version": "3.9.7"
  }
 },
 "nbformat": 4,
 "nbformat_minor": 5
}
