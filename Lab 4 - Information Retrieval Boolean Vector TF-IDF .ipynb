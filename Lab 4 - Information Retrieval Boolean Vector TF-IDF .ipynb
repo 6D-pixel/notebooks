{
 "cells": [
  {
   "cell_type": "markdown",
   "metadata": {
    "id": "WCg5Y2gc9NkQ"
   },
   "source": [
    "**i.\tPerform the text pre-processing of the given documents.**"
   ]
  },
  {
   "cell_type": "code",
   "execution_count": 13,
   "metadata": {
    "colab": {
     "base_uri": "https://localhost:8080/"
    },
    "id": "z8wCPG9vReqX",
    "outputId": "26769615-a32b-476e-fec2-670c22acdb85"
   },
   "outputs": [
    {
     "name": "stdout",
     "output_type": "stream",
     "text": [
      "Requirement already satisfied: python-docx in /usr/local/lib/python3.7/dist-packages (0.8.11)\n",
      "Requirement already satisfied: lxml>=2.3.2 in /usr/local/lib/python3.7/dist-packages (from python-docx) (4.2.6)\n"
     ]
    }
   ],
   "source": [
    "!pip install python-docx"
   ]
  },
  {
   "cell_type": "code",
   "execution_count": 14,
   "metadata": {
    "colab": {
     "base_uri": "https://localhost:8080/"
    },
    "id": "ByEE9-siHGVf",
    "outputId": "703dcf8b-9b6f-4892-cef4-5e73cf626123"
   },
   "outputs": [
    {
     "name": "stdout",
     "output_type": "stream",
     "text": [
      "[nltk_data] Downloading package punkt to /root/nltk_data...\n",
      "[nltk_data]   Package punkt is already up-to-date!\n",
      "[nltk_data] Downloading package stopwords to /root/nltk_data...\n",
      "[nltk_data]   Package stopwords is already up-to-date!\n"
     ]
    }
   ],
   "source": [
    "import docx\n",
    "import nltk\n",
    "nltk.download('punkt')\n",
    "nltk.download('stopwords')\n",
    "from nltk.corpus import stopwords\n",
    "stop_words = stopwords.words('english')"
   ]
  },
  {
   "cell_type": "markdown",
   "metadata": {
    "id": "-Bh2m176PhcC"
   },
   "source": [
    "**ii.Construct a Boolean Model for the vocabulary list by considering documents 1, 2, 3,4 and 5.**\n"
   ]
  },
  {
   "cell_type": "code",
   "execution_count": 15,
   "metadata": {
    "colab": {
     "base_uri": "https://localhost:8080/"
    },
    "id": "xJl2cZHIHIG_",
    "outputId": "973eaee0-c983-498b-878e-76d40802c6e7"
   },
   "outputs": [
    {
     "data": {
      "text/plain": [
       "<docx.document.Document at 0x7fde07148aa0>"
      ]
     },
     "execution_count": 15,
     "metadata": {},
     "output_type": "execute_result"
    }
   ],
   "source": [
    "doc = docx.Document(\"/File4.docx\")\n",
    "doc"
   ]
  },
  {
   "cell_type": "code",
   "execution_count": 16,
   "metadata": {
    "colab": {
     "base_uri": "https://localhost:8080/"
    },
    "id": "79StuFrhHKwW",
    "outputId": "b08eb966-8261-4d67-baee-a81b58b012fd"
   },
   "outputs": [
    {
     "data": {
      "text/plain": [
       "['Information Retrieval Systems is used with database systems',\n",
       " 'Information is in Storage Storage',\n",
       " 'Digital Speech systems can be used in Synthesis and Systems ',\n",
       " 'Speech Filtering, Speech Retrieval systems are applications of Information Retrieval ',\n",
       " 'Database Management system is used for storage storage']"
      ]
     },
     "execution_count": 16,
     "metadata": {},
     "output_type": "execute_result"
    }
   ],
   "source": [
    "lst=[]\n",
    "docs=[]\n",
    "for para in doc.paragraphs:\n",
    "  if len(para.text)>1:\n",
    "      lst.append(para.text)\n",
    "    \n",
    "docs=lst\n",
    "lst"
   ]
  },
  {
   "cell_type": "code",
   "execution_count": 17,
   "metadata": {
    "colab": {
     "base_uri": "https://localhost:8080/"
    },
    "id": "Z6eUO-0k_KUo",
    "outputId": "bbf9de6f-6ff5-49d7-c680-b083e71ac4d2"
   },
   "outputs": [
    {
     "name": "stdout",
     "output_type": "stream",
     "text": [
      "Drive already mounted at /content/drive; to attempt to forcibly remount, call drive.mount(\"/content/drive\", force_remount=True).\n"
     ]
    }
   ],
   "source": [
    "from google.colab import drive\n",
    "drive.mount('/content/drive')"
   ]
  },
  {
   "cell_type": "code",
   "execution_count": 18,
   "metadata": {
    "colab": {
     "base_uri": "https://localhost:8080/"
    },
    "id": "gkCqIx9FHMon",
    "outputId": "452fafd4-28fc-417a-99c6-cbe2186acc0b"
   },
   "outputs": [
    {
     "data": {
      "text/plain": [
       "['information retrieval systems used database systems',\n",
       " 'information storage storage',\n",
       " 'digital speech systems used synthesis systems',\n",
       " 'speech filtering, speech retrieval systems applications information retrieval',\n",
       " 'database management system used storage storage']"
      ]
     },
     "execution_count": 18,
     "metadata": {},
     "output_type": "execute_result"
    }
   ],
   "source": [
    "#preprocessing phase\n",
    "punc = '''!()-[]{};:'\"\\, <>./?@#$%^&*_~'''\n",
    "for ele in lst:  \n",
    "    if ele in punc:  \n",
    "        lst = lst.replace(ele, \" \")\n",
    "\n",
    "#lower-case conversion\n",
    "lst = [s.lower() for s in lst]\n",
    "\n",
    "def remove_stopwords(sen):\n",
    "    sen_new = \" \".join([i for i in sen if i not in stop_words])\n",
    "    return sen_new\n",
    "\n",
    "lst = [remove_stopwords(r.split()) for r in lst]\n",
    "lst"
   ]
  },
  {
   "cell_type": "code",
   "execution_count": 19,
   "metadata": {
    "colab": {
     "base_uri": "https://localhost:8080/"
    },
    "id": "H11a9N_AHOR7",
    "outputId": "1fabb145-e27b-455f-bd7e-6c9ee4a2567b"
   },
   "outputs": [
    {
     "data": {
      "text/plain": [
       "['applications',\n",
       " 'database',\n",
       " 'digital',\n",
       " 'filtering',\n",
       " 'information',\n",
       " 'management',\n",
       " 'retrieval',\n",
       " 'speech',\n",
       " 'storage',\n",
       " 'synthesis',\n",
       " 'system',\n",
       " 'systems',\n",
       " 'used']"
      ]
     },
     "execution_count": 19,
     "metadata": {},
     "output_type": "execute_result"
    }
   ],
   "source": [
    "from nltk.tokenize import word_tokenize\n",
    "tokens=[]\n",
    "for i in range(len(lst)):\n",
    "    # this will convert\n",
    "    # the word into tokens\n",
    "    text_tokens = word_tokenize(lst[i])\n",
    "    tokens.append(text_tokens)\n",
    "\n",
    "final_tok=[]\n",
    "for i in tokens:\n",
    "  for j in i:\n",
    "    if j not in final_tok and len(j)>1:\n",
    "      final_tok.append(j)\n",
    "\n",
    "final_tok=sorted(final_tok)\n",
    "final_tok"
   ]
  },
  {
   "cell_type": "code",
   "execution_count": 20,
   "metadata": {
    "colab": {
     "base_uri": "https://localhost:8080/"
    },
    "id": "-ZCAqGFJHz-H",
    "outputId": "299e301e-3dfb-4328-e2c2-286ea6a5d932"
   },
   "outputs": [
    {
     "data": {
      "text/plain": [
       "[[0, 1, 0, 0, 1, 0, 1, 0, 0, 0, 1, 1, 1],\n",
       " [0, 0, 0, 0, 1, 0, 0, 0, 1, 0, 0, 0, 0],\n",
       " [0, 0, 1, 0, 0, 0, 0, 1, 0, 1, 1, 1, 1],\n",
       " [1, 0, 0, 1, 1, 0, 1, 1, 0, 0, 1, 1, 0],\n",
       " [0, 1, 0, 0, 0, 1, 0, 0, 1, 0, 1, 0, 1]]"
      ]
     },
     "execution_count": 20,
     "metadata": {},
     "output_type": "execute_result"
    }
   ],
   "source": [
    "#constructing boolean model\n",
    "val=[]\n",
    "for i in range(5):\n",
    "  val1=[]\n",
    "  for word in final_tok:\n",
    "    if word in lst[i]:\n",
    "      val1.append(1)\n",
    "    else:\n",
    "      val1.append(0)\n",
    "  val.append(val1)\n",
    "\n",
    "val"
   ]
  },
  {
   "cell_type": "markdown",
   "metadata": {
    "id": "PDM5vxIOPbzE"
   },
   "source": [
    "**ii.a Retrieve the documents for the Boolean query  “Information Retrieval Synthesis” using simple match. **"
   ]
  },
  {
   "cell_type": "code",
   "execution_count": 21,
   "metadata": {
    "colab": {
     "base_uri": "https://localhost:8080/"
    },
    "id": "EIcxjjG5Iv7z",
    "outputId": "94d472f7-1331-4158-afdf-c50225aac290"
   },
   "outputs": [
    {
     "data": {
      "text/plain": [
       "[0, 0, 0, 0, 1, 0, 1, 0, 0, 1, 0, 0, 0]"
      ]
     },
     "execution_count": 21,
     "metadata": {},
     "output_type": "execute_result"
    }
   ],
   "source": [
    "query=['Information Retrieval Synthesis']\n",
    "query = [s.lower() for s in query]\n",
    "query=[remove_stopwords(r.split()) for r in query]\n",
    "\n",
    "qr=[]\n",
    "for word in final_tok:\n",
    "  if word in query[0]:\n",
    "      qr.append(1)\n",
    "  else:\n",
    "      qr.append(0)\n",
    "\n",
    "qr"
   ]
  },
  {
   "cell_type": "code",
   "execution_count": 22,
   "metadata": {
    "colab": {
     "base_uri": "https://localhost:8080/"
    },
    "id": "kgQlPCOeLdP3",
    "outputId": "3a6634a8-477f-4e4d-df36-d3929bd46264"
   },
   "outputs": [
    {
     "data": {
      "text/plain": [
       "[[0, 0, 0, 0, 1, 0, 1, 0, 0, 0, 0, 0, 0],\n",
       " [0, 0, 0, 0, 1, 0, 0, 0, 0, 0, 0, 0, 0],\n",
       " [0, 0, 0, 0, 0, 0, 0, 0, 0, 1, 0, 0, 0],\n",
       " [0, 0, 0, 0, 1, 0, 1, 0, 0, 0, 0, 0, 0],\n",
       " [0, 0, 0, 0, 0, 0, 0, 0, 0, 0, 0, 0, 0]]"
      ]
     },
     "execution_count": 22,
     "metadata": {},
     "output_type": "execute_result"
    }
   ],
   "source": [
    "cnt=[]\n",
    "for i in range(5):\n",
    "  c=[]\n",
    "  for j in range(13):\n",
    "    c.append(qr[j]*val[i][j])\n",
    "  cnt.append(c)\n",
    "\n",
    "cnt\n",
    "#simple match count"
   ]
  },
  {
   "cell_type": "code",
   "execution_count": 23,
   "metadata": {
    "colab": {
     "base_uri": "https://localhost:8080/"
    },
    "id": "fimGBEKoMnX2",
    "outputId": "dff19259-223f-43e6-809d-018812396481"
   },
   "outputs": [
    {
     "data": {
      "text/plain": [
       "[2, 1, 1, 2, 0]"
      ]
     },
     "execution_count": 23,
     "metadata": {},
     "output_type": "execute_result"
    }
   ],
   "source": [
    "rank=[]\n",
    "for i in cnt:\n",
    "  t=0\n",
    "  for j in i:\n",
    "    t+=j\n",
    "  rank.append(t)\n",
    "\n",
    "rank"
   ]
  },
  {
   "cell_type": "code",
   "execution_count": 24,
   "metadata": {
    "colab": {
     "base_uri": "https://localhost:8080/"
    },
    "id": "TAdQnx65OHk7",
    "outputId": "e76a697d-f595-4103-f91e-42306b9175f1"
   },
   "outputs": [
    {
     "name": "stdout",
     "output_type": "stream",
     "text": [
      "Documents retrieved for the boolean query are:\n",
      "\n",
      "Doc 1: Information Retrieval Systems is used with database systems\n",
      "Doc 4: Speech Filtering, Speech Retrieval systems are applications of Information Retrieval \n"
     ]
    }
   ],
   "source": [
    "print(\"Documents retrieved for the boolean query are:\\n\")\n",
    "m = max(rank)\n",
    "fnl=[i for i, j in enumerate(rank) if j == m]\n",
    "for i in fnl:\n",
    "  print(\"Doc \"+str(i+1)+\":\",docs[i])"
   ]
  },
  {
   "cell_type": "markdown",
   "metadata": {
    "id": "olDztrxkPnYL"
   },
   "source": [
    "**ii.b Retrieve the documents for the Boolean query  “Database Retrieval Storage” using weighted match.**"
   ]
  },
  {
   "cell_type": "code",
   "execution_count": 25,
   "metadata": {
    "colab": {
     "base_uri": "https://localhost:8080/"
    },
    "id": "bVoe0etLOka6",
    "outputId": "181d8a4d-784f-4df5-ab55-e7189fa40131"
   },
   "outputs": [
    {
     "data": {
      "text/plain": [
       "[0, 1, 0, 0, 0, 0, 1, 0, 1, 0, 0, 0, 0]"
      ]
     },
     "execution_count": 25,
     "metadata": {},
     "output_type": "execute_result"
    }
   ],
   "source": [
    "query=['Database Retrieval Storage']\n",
    "query = [s.lower() for s in query]\n",
    "query=[remove_stopwords(r.split()) for r in query]\n",
    "\n",
    "qr=[]\n",
    "for word in final_tok:\n",
    "  if word in query[0]:\n",
    "      qr.append(1)\n",
    "  else:\n",
    "      qr.append(0)\n",
    "\n",
    "qr"
   ]
  },
  {
   "cell_type": "code",
   "execution_count": 26,
   "metadata": {
    "colab": {
     "base_uri": "https://localhost:8080/"
    },
    "id": "7asu1iPlPtMN",
    "outputId": "544be354-b11e-4c76-d534-e8c68aca23fc"
   },
   "outputs": [
    {
     "data": {
      "text/plain": [
       "[[0, 1, 0, 0, 1, 0, 1, 0, 0, 0, 0, 2, 1],\n",
       " [0, 0, 0, 0, 1, 0, 0, 0, 2, 0, 0, 0, 0],\n",
       " [0, 0, 1, 0, 0, 0, 0, 1, 0, 1, 0, 2, 1],\n",
       " [1, 0, 0, 0, 1, 0, 2, 2, 0, 0, 0, 1, 0],\n",
       " [0, 1, 0, 0, 0, 1, 0, 0, 2, 0, 1, 0, 1]]"
      ]
     },
     "execution_count": 26,
     "metadata": {},
     "output_type": "execute_result"
    }
   ],
   "source": [
    "#constructing boolean model\n",
    "val=[]\n",
    "for i in range(5):\n",
    "  val1=[]\n",
    "  for word in final_tok:\n",
    "    if word in lst[i]:\n",
    "      str_list = lst[i].split()\n",
    "      unique_words = set(str_list)\n",
    "      val1.append(str_list.count(word))\n",
    "    else:\n",
    "      val1.append(0)\n",
    "  val.append(val1)\n",
    "\n",
    "val"
   ]
  },
  {
   "cell_type": "code",
   "execution_count": 27,
   "metadata": {
    "colab": {
     "base_uri": "https://localhost:8080/"
    },
    "id": "hZX-iPDaQCpf",
    "outputId": "176ad10a-1a75-4f92-8a78-e8ca72920345"
   },
   "outputs": [
    {
     "data": {
      "text/plain": [
       "[[0, 1, 0, 0, 0, 0, 1, 0, 0, 0, 0, 0, 0],\n",
       " [0, 0, 0, 0, 0, 0, 0, 0, 2, 0, 0, 0, 0],\n",
       " [0, 0, 0, 0, 0, 0, 0, 0, 0, 0, 0, 0, 0],\n",
       " [0, 0, 0, 0, 0, 0, 2, 0, 0, 0, 0, 0, 0],\n",
       " [0, 1, 0, 0, 0, 0, 0, 0, 2, 0, 0, 0, 0]]"
      ]
     },
     "execution_count": 27,
     "metadata": {},
     "output_type": "execute_result"
    }
   ],
   "source": [
    "cnt=[]\n",
    "for i in range(5):\n",
    "  c=[]\n",
    "  for j in range(13):\n",
    "    c.append(qr[j]*val[i][j])\n",
    "  cnt.append(c)\n",
    "\n",
    "cnt\n",
    "#weighted match count"
   ]
  },
  {
   "cell_type": "code",
   "execution_count": 28,
   "metadata": {
    "colab": {
     "base_uri": "https://localhost:8080/"
    },
    "id": "_7Sd-RWsRj6Y",
    "outputId": "82776013-1fa3-422e-aefd-27bd22f473e4"
   },
   "outputs": [
    {
     "data": {
      "text/plain": [
       "[2, 2, 0, 2, 3]"
      ]
     },
     "execution_count": 28,
     "metadata": {},
     "output_type": "execute_result"
    }
   ],
   "source": [
    "rank=[]\n",
    "for i in cnt:\n",
    "  t=0\n",
    "  for j in i:\n",
    "    t+=j\n",
    "  rank.append(t)\n",
    "\n",
    "rank"
   ]
  },
  {
   "cell_type": "code",
   "execution_count": 29,
   "metadata": {
    "colab": {
     "base_uri": "https://localhost:8080/"
    },
    "id": "LgvoyDzORmjn",
    "outputId": "37b66eb7-3c29-45b9-81f4-fc97bc2bdb42"
   },
   "outputs": [
    {
     "name": "stdout",
     "output_type": "stream",
     "text": [
      "Documents retrieved for the boolean query are:\n",
      "\n",
      "Doc 5: Database Management system is used for storage storage\n"
     ]
    }
   ],
   "source": [
    "print(\"Documents retrieved for the boolean query are:\\n\")\n",
    "m = max(rank)\n",
    "fnl=[i for i, j in enumerate(rank) if j == m]\n",
    "for i in fnl:\n",
    "  print(\"Doc \"+str(i+1)+\":\",docs[i])"
   ]
  },
  {
   "cell_type": "markdown",
   "metadata": {
    "id": "7J7BOlYSARlN"
   },
   "source": [
    "**iii. Construct a vector space model to build the term weights. Compute the TF-IDF and identify the most important terms across the documents. **\n"
   ]
  },
  {
   "cell_type": "code",
   "execution_count": 30,
   "metadata": {
    "colab": {
     "base_uri": "https://localhost:8080/"
    },
    "id": "MMZS_wlKAxJu",
    "outputId": "6a8c774f-df0b-43a3-dc0e-39dce777a874"
   },
   "outputs": [
    {
     "data": {
      "text/plain": [
       "[[0, 1, 0, 0, 1, 0, 1, 0, 0, 0, 0, 2, 1],\n",
       " [0, 0, 0, 0, 1, 0, 0, 0, 2, 0, 0, 0, 0],\n",
       " [0, 0, 1, 0, 0, 0, 0, 1, 0, 1, 0, 2, 1],\n",
       " [1, 0, 0, 0, 1, 0, 2, 2, 0, 0, 0, 1, 0],\n",
       " [0, 1, 0, 0, 0, 1, 0, 0, 2, 0, 1, 0, 1]]"
      ]
     },
     "execution_count": 30,
     "metadata": {},
     "output_type": "execute_result"
    }
   ],
   "source": [
    "#constructing boolean model\n",
    "val=[]\n",
    "for i in range(5):\n",
    "  val1=[]\n",
    "  for word in final_tok:\n",
    "    if word in lst[i]:\n",
    "      str_list = lst[i].split()\n",
    "      unique_words = set(str_list)\n",
    "      val1.append(str_list.count(word))\n",
    "    else:\n",
    "      val1.append(0)\n",
    "  val.append(val1)\n",
    "\n",
    "val"
   ]
  },
  {
   "cell_type": "code",
   "execution_count": 31,
   "metadata": {
    "colab": {
     "base_uri": "https://localhost:8080/"
    },
    "id": "yO2YFs5LB5pk",
    "outputId": "f97c93b1-194d-4a62-cb97-c28c83ea48e0"
   },
   "outputs": [
    {
     "data": {
      "text/plain": [
       "[[0.0,\n",
       "  0.16666666666666666,\n",
       "  0.0,\n",
       "  0.0,\n",
       "  0.16666666666666666,\n",
       "  0.0,\n",
       "  0.16666666666666666,\n",
       "  0.0,\n",
       "  0.0,\n",
       "  0.0,\n",
       "  0.0,\n",
       "  0.3333333333333333,\n",
       "  0.16666666666666666],\n",
       " [0.0,\n",
       "  0.0,\n",
       "  0.0,\n",
       "  0.0,\n",
       "  0.3333333333333333,\n",
       "  0.0,\n",
       "  0.0,\n",
       "  0.0,\n",
       "  0.6666666666666666,\n",
       "  0.0,\n",
       "  0.0,\n",
       "  0.0,\n",
       "  0.0],\n",
       " [0.0,\n",
       "  0.0,\n",
       "  0.16666666666666666,\n",
       "  0.0,\n",
       "  0.0,\n",
       "  0.0,\n",
       "  0.0,\n",
       "  0.16666666666666666,\n",
       "  0.0,\n",
       "  0.16666666666666666,\n",
       "  0.0,\n",
       "  0.3333333333333333,\n",
       "  0.16666666666666666],\n",
       " [0.14285714285714285,\n",
       "  0.0,\n",
       "  0.0,\n",
       "  0.0,\n",
       "  0.14285714285714285,\n",
       "  0.0,\n",
       "  0.2857142857142857,\n",
       "  0.2857142857142857,\n",
       "  0.0,\n",
       "  0.0,\n",
       "  0.0,\n",
       "  0.14285714285714285,\n",
       "  0.0],\n",
       " [0.0,\n",
       "  0.16666666666666666,\n",
       "  0.0,\n",
       "  0.0,\n",
       "  0.0,\n",
       "  0.16666666666666666,\n",
       "  0.0,\n",
       "  0.0,\n",
       "  0.3333333333333333,\n",
       "  0.0,\n",
       "  0.16666666666666666,\n",
       "  0.0,\n",
       "  0.16666666666666666]]"
      ]
     },
     "execution_count": 31,
     "metadata": {},
     "output_type": "execute_result"
    }
   ],
   "source": [
    "tf=[]\n",
    "for i in range(5):\n",
    "  c=[]\n",
    "  for j in range(13):\n",
    "    c.append(val[i][j]/sum(val[i]))\n",
    "  tf.append(c)\n",
    "\n",
    "tf\n",
    "#tf matrix"
   ]
  },
  {
   "cell_type": "code",
   "execution_count": 32,
   "metadata": {
    "colab": {
     "base_uri": "https://localhost:8080/"
    },
    "id": "DUFqe5J2C7b4",
    "outputId": "2ba8e72c-2dac-48b9-d9d7-5171e0c30679"
   },
   "outputs": [
    {
     "data": {
      "text/plain": [
       "[0.6989700043360189,\n",
       " 0.3979400086720376,\n",
       " 0.6989700043360189,\n",
       " 0,\n",
       " 0.22184874961635637,\n",
       " 0.6989700043360189,\n",
       " 0.22184874961635637,\n",
       " 0.22184874961635637,\n",
       " 0.09691001300805642,\n",
       " 0.6989700043360189,\n",
       " 0.6989700043360189,\n",
       " 0.0,\n",
       " 0.22184874961635637]"
      ]
     },
     "execution_count": 32,
     "metadata": {},
     "output_type": "execute_result"
    }
   ],
   "source": [
    "import math\n",
    "idf=[]\n",
    "for i in range(13):\n",
    "  t=0\n",
    "  for j in range(5):\n",
    "    t+=val[j][i]\n",
    "  if t==0:\n",
    "    idf.append(0)\n",
    "  else:\n",
    "    idf.append(math.log10(5/t))\n",
    "\n",
    "idf"
   ]
  },
  {
   "cell_type": "code",
   "execution_count": 33,
   "metadata": {
    "colab": {
     "base_uri": "https://localhost:8080/"
    },
    "id": "TysGAX-BDTde",
    "outputId": "adcb94d8-9186-471b-decc-50a4166d4d45"
   },
   "outputs": [
    {
     "data": {
      "text/plain": [
       "[[0.0,\n",
       "  0.06632333477867293,\n",
       "  0.0,\n",
       "  0.0,\n",
       "  0.036974791602726056,\n",
       "  0.0,\n",
       "  0.036974791602726056,\n",
       "  0.0,\n",
       "  0.0,\n",
       "  0.0,\n",
       "  0.0,\n",
       "  0.0,\n",
       "  0.036974791602726056],\n",
       " [0.0,\n",
       "  0.0,\n",
       "  0.0,\n",
       "  0.0,\n",
       "  0.07394958320545211,\n",
       "  0.0,\n",
       "  0.0,\n",
       "  0.0,\n",
       "  0.06460667533870428,\n",
       "  0.0,\n",
       "  0.0,\n",
       "  0.0,\n",
       "  0.0],\n",
       " [0.0,\n",
       "  0.0,\n",
       "  0.1164950007226698,\n",
       "  0.0,\n",
       "  0.0,\n",
       "  0.0,\n",
       "  0.0,\n",
       "  0.036974791602726056,\n",
       "  0.0,\n",
       "  0.1164950007226698,\n",
       "  0.0,\n",
       "  0.0,\n",
       "  0.036974791602726056],\n",
       " [0.0998528577622884,\n",
       "  0.0,\n",
       "  0.0,\n",
       "  0.0,\n",
       "  0.03169267851662234,\n",
       "  0.0,\n",
       "  0.06338535703324467,\n",
       "  0.06338535703324467,\n",
       "  0.0,\n",
       "  0.0,\n",
       "  0.0,\n",
       "  0.0,\n",
       "  0.0],\n",
       " [0.0,\n",
       "  0.06632333477867293,\n",
       "  0.0,\n",
       "  0.0,\n",
       "  0.0,\n",
       "  0.1164950007226698,\n",
       "  0.0,\n",
       "  0.0,\n",
       "  0.03230333766935214,\n",
       "  0.0,\n",
       "  0.1164950007226698,\n",
       "  0.0,\n",
       "  0.036974791602726056]]"
      ]
     },
     "execution_count": 33,
     "metadata": {},
     "output_type": "execute_result"
    }
   ],
   "source": [
    "wght=[]\n",
    "for i in range(5):\n",
    "  f=[]\n",
    "  for j in range(13):\n",
    "    f.append(tf[i][j]*idf[j])\n",
    "  wght.append(f)\n",
    "\n",
    "wght"
   ]
  },
  {
   "cell_type": "markdown",
   "metadata": {
    "id": "U6CQ7DljGInw"
   },
   "source": [
    "iii.a Rank all the documents in the collection for the query “Speech” AND “Systems”? (Rank the Top 3 documents in the order of relevance)\n"
   ]
  },
  {
   "cell_type": "code",
   "execution_count": 34,
   "metadata": {
    "colab": {
     "base_uri": "https://localhost:8080/"
    },
    "id": "vCFAcdNtFRX2",
    "outputId": "69b45077-71af-497d-dd29-d3994315c4f3"
   },
   "outputs": [
    {
     "data": {
      "text/plain": [
       "[[0, 0, 0, 0, 0, 0, 0, 1, 0, 0, 0, 0, 0],\n",
       " [0, 0, 0, 0, 0, 0, 0, 0, 0, 0, 1, 1, 0]]"
      ]
     },
     "execution_count": 34,
     "metadata": {},
     "output_type": "execute_result"
    }
   ],
   "source": [
    "query=['Speech', 'Systems']\n",
    "query = [s.lower() for s in query]\n",
    "query=[remove_stopwords(r.split()) for r in query]\n",
    "\n",
    "qr=[]\n",
    "for i in range(2):\n",
    "  qr1=[]\n",
    "  for word in final_tok:\n",
    "    if word in query[i]:\n",
    "        qr1.append(1)\n",
    "    else:\n",
    "        qr1.append(0)\n",
    "  qr.append(qr1)\n",
    "\n",
    "qr"
   ]
  },
  {
   "cell_type": "code",
   "execution_count": 35,
   "metadata": {
    "colab": {
     "base_uri": "https://localhost:8080/"
    },
    "id": "bCvSXRyeHYQe",
    "outputId": "e2a5ebf5-26cf-4bf0-9180-0b1ae389e584"
   },
   "outputs": [
    {
     "data": {
      "text/plain": [
       "[[0.0, 0.0, 0.2139150328246817, 0.4597195955104403, 0.0],\n",
       " [0.0, 0.0, 0.0, 0.0, 0.4470562734182571]]"
      ]
     },
     "execution_count": 35,
     "metadata": {},
     "output_type": "execute_result"
    }
   ],
   "source": [
    "rank=[]\n",
    "for k in range(2):\n",
    "  rnk=[]\n",
    "  for i in wght:\n",
    "    t=0\n",
    "    q=0\n",
    "    p=0\n",
    "    fnl=0\n",
    "    for j in range(13):\n",
    "      t+=i[j]*qr[k][j]\n",
    "      q+=i[j]**2\n",
    "      p+=qr[k][j]**2\n",
    "    fnl=t/(math.sqrt(q)*math.sqrt(p))\n",
    "    rnk.append(fnl)\n",
    "  rank.append(rnk)\n",
    "\n",
    "rank"
   ]
  },
  {
   "cell_type": "code",
   "execution_count": 36,
   "metadata": {
    "colab": {
     "base_uri": "https://localhost:8080/"
    },
    "id": "xNphCcdnRjSj",
    "outputId": "5488bec6-458e-42f6-99fe-c9eaf28857a7"
   },
   "outputs": [
    {
     "data": {
      "text/plain": [
       "[0.0, 0.0, 0.2139150328246817, 0.4597195955104403, 0.4470562734182571]"
      ]
     },
     "execution_count": 36,
     "metadata": {},
     "output_type": "execute_result"
    }
   ],
   "source": [
    "ranks=[]\n",
    "for i in range(5):\n",
    "  t=0\n",
    "  for j in rank:\n",
    "    t+=j[i]\n",
    "  ranks.append(t)\n",
    "ranks"
   ]
  },
  {
   "cell_type": "code",
   "execution_count": 37,
   "metadata": {
    "colab": {
     "base_uri": "https://localhost:8080/"
    },
    "id": "I2bN_sKgITg2",
    "outputId": "bac4c720-21cb-4224-fd46-fe88d4d58b72"
   },
   "outputs": [
    {
     "name": "stdout",
     "output_type": "stream",
     "text": [
      "Top 3 documents retrieved for the query are:\n",
      "\n",
      "Doc 4: Speech Filtering, Speech Retrieval systems are applications of Information Retrieval \n",
      "Doc 3: Digital Speech systems can be used in Synthesis and Systems \n",
      "Doc 1: Information Retrieval Systems is used with database systems\n"
     ]
    }
   ],
   "source": [
    "print(\"Top 3 documents retrieved for the query are:\\n\")\n",
    "m=[]\n",
    "for i in range(5):\n",
    "  t=0\n",
    "  t=ranks.index(max(ranks))\n",
    "  m.append(t)\n",
    "  ranks.remove(max(ranks))\n",
    "\n",
    "l=[]\n",
    "for i in m:\n",
    "  if i not in l:\n",
    "    print(\"Doc \"+str(i+1)+\":\",docs[i])\n",
    "    l.append(i)"
   ]
  },
  {
   "cell_type": "markdown",
   "metadata": {
    "id": "KiHT61BKM6Jp"
   },
   "source": [
    "iii.b Rank all the documents in the collection for the query “Database” OR “Systems”? (Rank the Top N documents in the order of relevance)\n"
   ]
  },
  {
   "cell_type": "code",
   "execution_count": 38,
   "metadata": {
    "colab": {
     "base_uri": "https://localhost:8080/"
    },
    "id": "0Li_LniWLgRc",
    "outputId": "f3d93d49-f2c7-4d46-b90b-a4dab30c35e9"
   },
   "outputs": [
    {
     "data": {
      "text/plain": [
       "[[0, 1, 0, 0, 0, 0, 0, 0, 0, 0, 0, 0, 0],\n",
       " [0, 0, 0, 0, 0, 0, 0, 0, 0, 0, 1, 1, 0]]"
      ]
     },
     "execution_count": 38,
     "metadata": {},
     "output_type": "execute_result"
    }
   ],
   "source": [
    "query=['Database', 'Systems']\n",
    "query = [s.lower() for s in query]\n",
    "query=[remove_stopwords(r.split()) for r in query]\n",
    "\n",
    "qr=[]\n",
    "for i in range(2):\n",
    "  qr1=[]\n",
    "  for word in final_tok:\n",
    "    if word in query[i]:\n",
    "        qr1.append(1)\n",
    "    else:\n",
    "        qr1.append(0)\n",
    "  qr.append(qr1)\n",
    "\n",
    "qr"
   ]
  },
  {
   "cell_type": "code",
   "execution_count": 39,
   "metadata": {
    "colab": {
     "base_uri": "https://localhost:8080/"
    },
    "id": "o4Pwk76fNr8-",
    "outputId": "6b268002-0d77-49e5-b18b-9924c34141dd"
   },
   "outputs": [
    {
     "data": {
      "text/plain": [
       "[[0.7193695129021974, 0.0, 0.0, 0.0, 0.35994509328601326],\n",
       " [0.0, 0.0, 0.0, 0.0, 0.4470562734182571]]"
      ]
     },
     "execution_count": 39,
     "metadata": {},
     "output_type": "execute_result"
    }
   ],
   "source": [
    "rank=[]\n",
    "for k in range(2):\n",
    "  rnk=[]\n",
    "  for i in wght:\n",
    "    t=0\n",
    "    q=0\n",
    "    p=0\n",
    "    fnl=0\n",
    "    for j in range(13):\n",
    "      t+=i[j]*qr[k][j]\n",
    "      q+=i[j]**2\n",
    "      p+=qr[k][j]**2\n",
    "    fnl=t/(math.sqrt(q)*math.sqrt(p))\n",
    "    rnk.append(fnl)\n",
    "  rank.append(rnk)\n",
    "\n",
    "rank"
   ]
  },
  {
   "cell_type": "code",
   "execution_count": 40,
   "metadata": {
    "colab": {
     "base_uri": "https://localhost:8080/"
    },
    "id": "zptAtScWOvoJ",
    "outputId": "5878feb5-da5d-4e78-85ad-bea1be1f380f"
   },
   "outputs": [
    {
     "data": {
      "text/plain": [
       "[0.7193695129021974, 0.0, 0.0, 0.0, 0.8070013667042704]"
      ]
     },
     "execution_count": 40,
     "metadata": {},
     "output_type": "execute_result"
    }
   ],
   "source": [
    "#unioning ranks for OR logic\n",
    "ranks=[]\n",
    "for i in range(5):\n",
    "  t=0\n",
    "  for j in rank:\n",
    "    t+=j[i]\n",
    "  ranks.append(t)\n",
    "ranks"
   ]
  },
  {
   "cell_type": "code",
   "execution_count": 41,
   "metadata": {
    "colab": {
     "base_uri": "https://localhost:8080/"
    },
    "id": "3ThoBsKAPPNn",
    "outputId": "d9b30c45-9552-4afc-ab4e-047ad049097b"
   },
   "outputs": [
    {
     "name": "stdout",
     "output_type": "stream",
     "text": [
      "Top N documents retrieved for the query are:\n",
      "\n",
      "Doc 5: Database Management system is used for storage storage\n",
      "Doc 1: Information Retrieval Systems is used with database systems\n"
     ]
    }
   ],
   "source": [
    "print(\"Top N documents retrieved for the query are:\\n\")\n",
    "m=[]\n",
    "for i in range(5):\n",
    "  t=0\n",
    "  t=ranks.index(max(ranks))\n",
    "  m.append(t)\n",
    "  ranks.remove(max(ranks))\n",
    "\n",
    "l=[]\n",
    "for i in m:\n",
    "  if i not in l:\n",
    "    print(\"Doc \"+str(i+1)+\":\",docs[i])\n",
    "    l.append(i)"
   ]
  },
  {
   "cell_type": "markdown",
   "metadata": {
    "id": "SaDrP4UZQIh-"
   },
   "source": [
    "iii.c Rank all the documents in the collection for the query contains “Systems” but NOT “Information” (Rank the documents in the order of relevance)\n"
   ]
  },
  {
   "cell_type": "code",
   "execution_count": 42,
   "metadata": {
    "colab": {
     "base_uri": "https://localhost:8080/"
    },
    "id": "H0QYa_RaPpQ1",
    "outputId": "d22668c1-fd73-4784-d8d0-fdce1f1a819d"
   },
   "outputs": [
    {
     "data": {
      "text/plain": [
       "[[0, 0, 0, 0, 0, 0, 0, 0, 0, 0, 1, 1, 0],\n",
       " [0, 0, 0, 0, 1, 0, 0, 0, 0, 0, 0, 0, 0]]"
      ]
     },
     "execution_count": 42,
     "metadata": {},
     "output_type": "execute_result"
    }
   ],
   "source": [
    "query=['Systems', 'Information']\n",
    "query = [s.lower() for s in query]\n",
    "query=[remove_stopwords(r.split()) for r in query]\n",
    "\n",
    "qr=[]\n",
    "for i in range(2):\n",
    "  qr1=[]\n",
    "  for word in final_tok:\n",
    "    if word in query[i]:\n",
    "        qr1.append(1)\n",
    "    else:\n",
    "        qr1.append(0)\n",
    "  qr.append(qr1)\n",
    "\n",
    "qr"
   ]
  },
  {
   "cell_type": "code",
   "execution_count": 43,
   "metadata": {
    "colab": {
     "base_uri": "https://localhost:8080/"
    },
    "id": "hD4rRNy4QNNf",
    "outputId": "b8e2c31b-ecfc-4af3-d18e-0c1c56aa5a4e"
   },
   "outputs": [
    {
     "data": {
      "text/plain": [
       "[[0.0, 0.0, 0.0, 0.0, 0.4470562734182571],\n",
       " [0.4010434323556719, 0.7530771668394195, 0.0, 0.22985979775522014, 0.0]]"
      ]
     },
     "execution_count": 43,
     "metadata": {},
     "output_type": "execute_result"
    }
   ],
   "source": [
    "rank=[]\n",
    "for k in range(2):\n",
    "  rnk=[]\n",
    "  for i in wght:\n",
    "    t=0\n",
    "    q=0\n",
    "    p=0\n",
    "    fnl=0\n",
    "    for j in range(13):\n",
    "      t+=i[j]*qr[k][j]\n",
    "      q+=i[j]**2\n",
    "      p+=qr[k][j]**2\n",
    "    fnl=t/(math.sqrt(q)*math.sqrt(p))\n",
    "    rnk.append(fnl)\n",
    "  rank.append(rnk)\n",
    "\n",
    "rank"
   ]
  },
  {
   "cell_type": "code",
   "execution_count": 44,
   "metadata": {
    "colab": {
     "base_uri": "https://localhost:8080/"
    },
    "id": "88ocdBc2QOoK",
    "outputId": "3e98ed5e-f08e-4346-a88a-3d45450ce138"
   },
   "outputs": [
    {
     "data": {
      "text/plain": [
       "[-0.4010434323556719,\n",
       " -0.7530771668394195,\n",
       " 0.0,\n",
       " -0.22985979775522014,\n",
       " 0.4470562734182571]"
      ]
     },
     "execution_count": 44,
     "metadata": {},
     "output_type": "execute_result"
    }
   ],
   "source": [
    "#deletion of ranks for NOT logic\n",
    "ranks=[]\n",
    "for i in range(5):\n",
    "  t=0\n",
    "  t+=rank[0][i]-rank[1][i]\n",
    "  ranks.append(t)\n",
    "ranks"
   ]
  },
  {
   "cell_type": "code",
   "execution_count": 45,
   "metadata": {
    "colab": {
     "base_uri": "https://localhost:8080/"
    },
    "id": "M2irjVeNQnOa",
    "outputId": "e850b587-af60-45f7-b14c-e730736f06ce"
   },
   "outputs": [
    {
     "name": "stdout",
     "output_type": "stream",
     "text": [
      "Top N documents retrieved for the query are:\n",
      "\n",
      "Doc 5: Database Management system is used for storage storage\n",
      "Doc 3: Digital Speech systems can be used in Synthesis and Systems \n"
     ]
    }
   ],
   "source": [
    "print(\"Top N documents retrieved for the query are:\\n\")\n",
    "m=[]\n",
    "for i in range(5):\n",
    "  t=0\n",
    "  t=ranks.index(max(ranks))\n",
    "  m.append(t)\n",
    "  ranks.remove(max(ranks))\n",
    "\n",
    "l=[]\n",
    "for i in m:\n",
    "  if i not in l and i>0:\n",
    "    print(\"Doc \"+str(i+1)+\":\",docs[i])\n",
    "    l.append(i)"
   ]
  },
  {
   "cell_type": "markdown",
   "metadata": {
    "id": "Fk7kwEljTdL1"
   },
   "source": [
    "IV. Compute the cosine similarities between docs 1 and docs 2 \n"
   ]
  },
  {
   "cell_type": "code",
   "execution_count": 46,
   "metadata": {
    "colab": {
     "base_uri": "https://localhost:8080/"
    },
    "id": "f-5QiA06QvKK",
    "outputId": "3372da34-0b19-4200-c348-9a8da4d78881"
   },
   "outputs": [
    {
     "name": "stdout",
     "output_type": "stream",
     "text": [
      "Cosine similarities between docs 1 and 2 is: 0.002912214699293113\n"
     ]
    }
   ],
   "source": [
    "cos=0\n",
    "t=0\n",
    "q=0\n",
    "p=0\n",
    "for i in range(13):\n",
    "  t+=wght[0][i]*wght[1][i]\n",
    "  q+=wght[0][i]**2\n",
    "  p+=wght[1][i]**2\n",
    "cos=t/math.sqrt(q)*math.sqrt(p)\n",
    "    \n",
    "\n",
    "print(\"Cosine similarities between docs 1 and 2 is:\",cos)"
   ]
  },
  {
   "cell_type": "markdown",
   "metadata": {
    "id": "z_RjKDqPWSkX"
   },
   "source": [
    "V. Compute Dice Co-efficient between docs 3 and docs 4."
   ]
  },
  {
   "cell_type": "code",
   "execution_count": 47,
   "metadata": {
    "colab": {
     "base_uri": "https://localhost:8080/"
    },
    "id": "S9n8snf4T3ES",
    "outputId": "9d6addb2-04a6-4de5-f6d8-9c0b0b128f4b"
   },
   "outputs": [
    {
     "name": "stdout",
     "output_type": "stream",
     "text": [
      "Dice co-efficient between docs 3 and 4 is: 0.46153846153846156\n"
     ]
    }
   ],
   "source": [
    "query=[lst[2],lst[3]]\n",
    "query = [s.lower() for s in query]\n",
    "query=[remove_stopwords(r.split()) for r in query]\n",
    "\n",
    "qr=[]\n",
    "for i in range(2):\n",
    "  qr1=[]\n",
    "  for word in final_tok:\n",
    "    if word in query[i]:\n",
    "        qr1.append(1)\n",
    "    else:\n",
    "        qr1.append(0)\n",
    "  qr.append(qr1)\n",
    "\n",
    "t=0\n",
    "q=0\n",
    "p=0\n",
    "sim=0\n",
    "for i in range(13):\n",
    "  t+=qr[0][i]*qr[1][i]\n",
    "  q+=qr[0][i]\n",
    "  p+=qr[1][i]\n",
    "sim=2*t/(p+q)\n",
    "\n",
    "print(\"Dice co-efficient between docs 3 and 4 is:\",sim)"
   ]
  },
  {
   "cell_type": "markdown",
   "metadata": {
    "id": "_KkSh9aIYLZt"
   },
   "source": [
    "VI. Compute the Jaccard co-efficient between docs 4 and docs 5.\n"
   ]
  },
  {
   "cell_type": "code",
   "execution_count": 49,
   "metadata": {
    "colab": {
     "base_uri": "https://localhost:8080/"
    },
    "id": "2_LuIBXwXkAr",
    "outputId": "acfa8cde-10b5-49bb-e854-7f1beb429a53"
   },
   "outputs": [
    {
     "name": "stdout",
     "output_type": "stream",
     "text": [
      "Jaccard co-efficient between the docs 3 & 4 is: 0.08333333333333333\n"
     ]
    }
   ],
   "source": [
    "query=[lst[3],lst[4]]\n",
    "query = [s.lower() for s in query]\n",
    "query=[remove_stopwords(r.split()) for r in query]\n",
    "\n",
    "qr=[]\n",
    "for i in range(2):\n",
    "  qr1=[]\n",
    "  for word in final_tok:\n",
    "    if word in query[i]:\n",
    "        qr1.append(1)\n",
    "    else:\n",
    "        qr1.append(0)\n",
    "  qr.append(qr1)\n",
    "\n",
    "t=0\n",
    "q=0\n",
    "sim=0\n",
    "for i in range(13):\n",
    "  t+=qr[0][i]*qr[1][i]\n",
    "  q+=qr[0][i]+qr[1][i]\n",
    "sim=t/q\n",
    "\n",
    "print(\"Jaccard co-efficient between the docs 3 & 4 is:\",sim)"
   ]
  }
 ],
 "metadata": {
  "colab": {
   "name": "19BCE1687_Web_mining_Lab4.ipynb",
   "provenance": []
  },
  "kernelspec": {
   "display_name": "Python 3 (ipykernel)",
   "language": "python",
   "name": "python3"
  },
  "language_info": {
   "codemirror_mode": {
    "name": "ipython",
    "version": 3
   },
   "file_extension": ".py",
   "mimetype": "text/x-python",
   "name": "python",
   "nbconvert_exporter": "python",
   "pygments_lexer": "ipython3",
   "version": "3.9.7"
  }
 },
 "nbformat": 4,
 "nbformat_minor": 1
}
