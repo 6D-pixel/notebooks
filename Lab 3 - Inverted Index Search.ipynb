{
 "cells": [
  {
   "cell_type": "markdown",
   "metadata": {
    "id": "KrIvnY9WlrZ9"
   },
   "source": [
    "# **Question 1**"
   ]
  },
  {
   "cell_type": "code",
   "execution_count": 1,
   "metadata": {
    "colab": {
     "base_uri": "https://localhost:8080/"
    },
    "id": "CdUwbVWmlh14",
    "outputId": "d233afdf-56b8-4c20-b9b1-1cc3a34406c4"
   },
   "outputs": [
    {
     "name": "stdout",
     "output_type": "stream",
     "text": [
      "Collecting python-docx\n",
      "  Downloading python-docx-0.8.11.tar.gz (5.6 MB)\n",
      "\u001b[K     |████████████████████████████████| 5.6 MB 8.7 MB/s \n",
      "\u001b[?25hRequirement already satisfied: lxml>=2.3.2 in /usr/local/lib/python3.7/dist-packages (from python-docx) (4.2.6)\n",
      "Building wheels for collected packages: python-docx\n",
      "  Building wheel for python-docx (setup.py) ... \u001b[?25l\u001b[?25hdone\n",
      "  Created wheel for python-docx: filename=python_docx-0.8.11-py3-none-any.whl size=184507 sha256=db1b3299ed20ce5c2d78c36fbe0a9e9b82220c348660918610d583b746726eae\n",
      "  Stored in directory: /root/.cache/pip/wheels/f6/6f/b9/d798122a8b55b74ad30b5f52b01482169b445fbb84a11797a6\n",
      "Successfully built python-docx\n",
      "Installing collected packages: python-docx\n",
      "Successfully installed python-docx-0.8.11\n"
     ]
    }
   ],
   "source": [
    "!pip install python-docx"
   ]
  },
  {
   "cell_type": "code",
   "execution_count": 2,
   "metadata": {
    "colab": {
     "base_uri": "https://localhost:8080/"
    },
    "id": "SC6gM7GAlkPL",
    "outputId": "3dc3ea86-029c-41ce-d571-9798ee243854"
   },
   "outputs": [
    {
     "name": "stdout",
     "output_type": "stream",
     "text": [
      "[nltk_data] Downloading package punkt to /root/nltk_data...\n",
      "[nltk_data]   Unzipping tokenizers/punkt.zip.\n",
      "[nltk_data] Downloading package stopwords to /root/nltk_data...\n",
      "[nltk_data]   Unzipping corpora/stopwords.zip.\n"
     ]
    }
   ],
   "source": [
    "import docx\n",
    "import nltk\n",
    "nltk.download('punkt')\n",
    "nltk.download('stopwords')\n",
    "from nltk.corpus import stopwords\n",
    "stop_words = stopwords.words('english')"
   ]
  },
  {
   "cell_type": "code",
   "execution_count": 5,
   "metadata": {
    "colab": {
     "base_uri": "https://localhost:8080/"
    },
    "id": "OGA3__Mxmn34",
    "outputId": "590d697a-9d34-4f87-b8a4-bcb00bd09012"
   },
   "outputs": [
    {
     "data": {
      "text/plain": [
       "<docx.document.Document at 0x7f23ef56fa00>"
      ]
     },
     "execution_count": 5,
     "metadata": {},
     "output_type": "execute_result"
    }
   ],
   "source": [
    "doc = docx.Document(\"/content/Webmining/sampledoc.docx\")\n",
    "doc"
   ]
  },
  {
   "cell_type": "code",
   "execution_count": 6,
   "metadata": {
    "colab": {
     "base_uri": "https://localhost:8080/"
    },
    "id": "5KQE2c2KnP_Q",
    "outputId": "c6e17aef-4b18-4cd5-defb-1337f3653eee"
   },
   "outputs": [
    {
     "data": {
      "text/plain": [
       "['Selenium is a portable framework for testing web applications',\n",
       " 'Beautiful Soup is useful for web scraping',\n",
       " 'It is a python package for parsing the pages',\n",
       " 'Java programming can be used for web applications',\n",
       " 'scraping web and crawling web is useful']"
      ]
     },
     "execution_count": 6,
     "metadata": {},
     "output_type": "execute_result"
    }
   ],
   "source": [
    "lst=[]\n",
    "for para in doc.paragraphs:\n",
    "  if len(para.text)>1:\n",
    "      lst.append(para.text)\n",
    "    \n",
    "lst"
   ]
  },
  {
   "cell_type": "code",
   "execution_count": 7,
   "metadata": {
    "colab": {
     "base_uri": "https://localhost:8080/"
    },
    "id": "FfML_EWDnRdc",
    "outputId": "53baa43f-c6d5-4af6-8f2a-17edc8dcb5ef"
   },
   "outputs": [
    {
     "data": {
      "text/plain": [
       "['Selenium is a portable framework for testing web applications',\n",
       " 'Beautiful Soup is useful for web scraping',\n",
       " 'It is a python package for parsing the pages',\n",
       " 'Java programming can be used for web applications',\n",
       " 'scraping web and crawling web is useful']"
      ]
     },
     "execution_count": 7,
     "metadata": {},
     "output_type": "execute_result"
    }
   ],
   "source": [
    "#pre processing phase part\n",
    "punc = '''!()-[]{};:'\"\\, <>./?@#$%^&*_~'''\n",
    "for ele in lst:  \n",
    "    if ele in punc:  \n",
    "        lst = lst.replace(ele, \" \")\n",
    "lst"
   ]
  },
  {
   "cell_type": "code",
   "execution_count": 8,
   "metadata": {
    "colab": {
     "base_uri": "https://localhost:8080/"
    },
    "id": "Na612-9RnWgP",
    "outputId": "e9f974ae-d9d0-4ab1-9ec4-8f8b6d99dcc2"
   },
   "outputs": [
    {
     "data": {
      "text/plain": [
       "['selenium is a portable framework for testing web applications',\n",
       " 'beautiful soup is useful for web scraping',\n",
       " 'it is a python package for parsing the pages',\n",
       " 'java programming can be used for web applications',\n",
       " 'scraping web and crawling web is useful']"
      ]
     },
     "execution_count": 8,
     "metadata": {},
     "output_type": "execute_result"
    }
   ],
   "source": [
    "#lower-case conversion\n",
    "lst = [s.lower() for s in lst]\n",
    "lst"
   ]
  },
  {
   "cell_type": "code",
   "execution_count": 9,
   "metadata": {
    "id": "6EhjRV-RnYmW"
   },
   "outputs": [],
   "source": [
    "def remove_stopwords(sen):\n",
    "    sen_new = \" \".join([i for i in sen if i not in stop_words])\n",
    "    return sen_new"
   ]
  },
  {
   "cell_type": "code",
   "execution_count": 10,
   "metadata": {
    "colab": {
     "base_uri": "https://localhost:8080/"
    },
    "id": "Yy3dqTo_nbVL",
    "outputId": "dec829ac-ab2b-44e1-8a1a-de84beb35997"
   },
   "outputs": [
    {
     "data": {
      "text/plain": [
       "['selenium portable framework testing web applications',\n",
       " 'beautiful soup useful web scraping',\n",
       " 'python package parsing pages',\n",
       " 'java programming used web applications',\n",
       " 'scraping web crawling web useful']"
      ]
     },
     "execution_count": 10,
     "metadata": {},
     "output_type": "execute_result"
    }
   ],
   "source": [
    "lst = [remove_stopwords(r.split()) for r in lst]\n",
    "lst"
   ]
  },
  {
   "cell_type": "code",
   "execution_count": 11,
   "metadata": {
    "colab": {
     "base_uri": "https://localhost:8080/"
    },
    "id": "_P9rCh2Bnddn",
    "outputId": "565a34c6-5c1f-49fb-c757-eb89161670cc"
   },
   "outputs": [
    {
     "data": {
      "text/plain": [
       "['applications',\n",
       " 'beautiful',\n",
       " 'crawling',\n",
       " 'framework',\n",
       " 'java',\n",
       " 'package',\n",
       " 'pages',\n",
       " 'parsing',\n",
       " 'portable',\n",
       " 'programming',\n",
       " 'python',\n",
       " 'scraping',\n",
       " 'selenium',\n",
       " 'soup',\n",
       " 'testing',\n",
       " 'used',\n",
       " 'useful',\n",
       " 'web']"
      ]
     },
     "execution_count": 11,
     "metadata": {},
     "output_type": "execute_result"
    }
   ],
   "source": [
    "from nltk.tokenize import word_tokenize\n",
    "tokens=[]\n",
    "for i in range(len(lst)):\n",
    "    # this will convert\n",
    "    # the word into tokens\n",
    "    text_tokens = word_tokenize(lst[i])\n",
    "    tokens.append(text_tokens)\n",
    "\n",
    "final_tok=[]\n",
    "for i in tokens:\n",
    "  for j in i:\n",
    "    if j not in final_tok:\n",
    "      final_tok.append(j)\n",
    "\n",
    "final_tok=sorted(final_tok)\n",
    "final_tok"
   ]
  },
  {
   "cell_type": "code",
   "execution_count": 12,
   "metadata": {
    "colab": {
     "base_uri": "https://localhost:8080/"
    },
    "id": "Y1jYEr1xngC4",
    "outputId": "3a203ec4-65d1-42fd-bea3-8af0b451def2"
   },
   "outputs": [
    {
     "data": {
      "text/plain": [
       "{'applications': [1, 4],\n",
       " 'beautiful': [2],\n",
       " 'crawling': [5],\n",
       " 'framework': [1],\n",
       " 'java': [4],\n",
       " 'package': [3],\n",
       " 'pages': [3],\n",
       " 'parsing': [3],\n",
       " 'portable': [1],\n",
       " 'programming': [4],\n",
       " 'python': [3],\n",
       " 'scraping': [2, 5],\n",
       " 'selenium': [1],\n",
       " 'soup': [2],\n",
       " 'testing': [1],\n",
       " 'used': [4],\n",
       " 'useful': [2, 5],\n",
       " 'web': [1, 2, 4, 5]}"
      ]
     },
     "execution_count": 12,
     "metadata": {},
     "output_type": "execute_result"
    }
   ],
   "source": [
    "index={}\n",
    "for i in range(len(lst)):\n",
    "    for item in final_tok:\n",
    "        if item in lst[i]:\n",
    "            line=lst[i].split()\n",
    "            if item not in index:\n",
    "                index[item] = []\n",
    "            if item in index:\n",
    "                index[item].append(i+1)\n",
    "  \n",
    "index"
   ]
  },
  {
   "cell_type": "code",
   "execution_count": null,
   "metadata": {
    "id": "8D1KjqB_niNI"
   },
   "outputs": [],
   "source": []
  },
  {
   "cell_type": "markdown",
   "metadata": {
    "id": "8pQV1SyRnkhj"
   },
   "source": [
    "# **Question 2**"
   ]
  },
  {
   "cell_type": "markdown",
   "metadata": {
    "id": "KxGV9iujnpz6"
   },
   "source": [
    "# **2 a**"
   ]
  },
  {
   "cell_type": "code",
   "execution_count": 13,
   "metadata": {
    "colab": {
     "base_uri": "https://localhost:8080/"
    },
    "id": "ITOY0Pc7nupM",
    "outputId": "4e064746-01eb-413c-ab91-c10175973645"
   },
   "outputs": [
    {
     "name": "stdout",
     "output_type": "stream",
     "text": [
      "position of the word in the docs\n",
      "[1]\n"
     ]
    }
   ],
   "source": [
    "#Selenium AND web\n",
    "w = 'web'\n",
    "se = 'selenium'\n",
    "print(\"position of the word in the docs\")\n",
    "if w and se in index:\n",
    "  if w<se:\n",
    "    print(index[w]);\n",
    "  else:\n",
    "    print(index[se]);\n",
    "  \n"
   ]
  },
  {
   "cell_type": "markdown",
   "metadata": {
    "id": "FBP5xf-vn1Vr"
   },
   "source": [
    "## **2 b**"
   ]
  },
  {
   "cell_type": "code",
   "execution_count": 14,
   "metadata": {
    "colab": {
     "base_uri": "https://localhost:8080/"
    },
    "id": "f0fz7WCTn28z",
    "outputId": "ec69b4e6-e740-4ba7-8c85-f96d3e36ccaf"
   },
   "outputs": [
    {
     "name": "stdout",
     "output_type": "stream",
     "text": [
      "position of the word in the docs\n",
      "[2]\n"
     ]
    }
   ],
   "source": [
    "#soup\n",
    "s = 'soup'\n",
    "if w and s in index:\n",
    "  print(\"position of the word in the docs\")\n",
    "  print(index[s]);"
   ]
  },
  {
   "cell_type": "markdown",
   "metadata": {
    "id": "zuTwUpiqn_Qr"
   },
   "source": [
    "## **2 c**"
   ]
  },
  {
   "cell_type": "code",
   "execution_count": 15,
   "metadata": {
    "colab": {
     "base_uri": "https://localhost:8080/"
    },
    "id": "sSkm40egoDUU",
    "outputId": "44352ab0-a8ea-47f3-e417-1f9367bc4cfd"
   },
   "outputs": [
    {
     "name": "stdout",
     "output_type": "stream",
     "text": [
      "position of the word in the docs\n",
      "[3]\n",
      "[4]\n"
     ]
    }
   ],
   "source": [
    "#Python OR java\n",
    "p = 'python'\n",
    "j = 'java'\n",
    "print(\"position of the word in the docs\")\n",
    "if p or j in index:\n",
    "    print(index[p])\n",
    "    print(index[j])"
   ]
  },
  {
   "cell_type": "markdown",
   "metadata": {
    "id": "fsnAhPFeoLOi"
   },
   "source": [
    "## **2 d**"
   ]
  },
  {
   "cell_type": "code",
   "execution_count": 16,
   "metadata": {
    "colab": {
     "base_uri": "https://localhost:8080/"
    },
    "id": "SfU8AZsyoMtT",
    "outputId": "11371336-73b4-4657-d82a-560b0ce1fd29"
   },
   "outputs": [
    {
     "name": "stdout",
     "output_type": "stream",
     "text": [
      "position of the word in the docs\n",
      "[1, 2, 4, 5]\n",
      "[5]\n"
     ]
    }
   ],
   "source": [
    "#Web AND craw\n",
    "w = 'web'\n",
    "c = 'crawling'\n",
    "print(\"position of the word in the docs\")\n",
    "if w in index:\n",
    "  print(index[w]);\n",
    "if c in index:\n",
    "  print(index[c]);"
   ]
  },
  {
   "cell_type": "code",
   "execution_count": null,
   "metadata": {
    "id": "dUWdmP5IoSAK"
   },
   "outputs": [],
   "source": []
  }
 ],
 "metadata": {
  "colab": {
   "collapsed_sections": [],
   "name": "Untitled6.ipynb",
   "provenance": []
  },
  "kernelspec": {
   "display_name": "Python 3 (ipykernel)",
   "language": "python",
   "name": "python3"
  },
  "language_info": {
   "codemirror_mode": {
    "name": "ipython",
    "version": 3
   },
   "file_extension": ".py",
   "mimetype": "text/x-python",
   "name": "python",
   "nbconvert_exporter": "python",
   "pygments_lexer": "ipython3",
   "version": "3.9.7"
  }
 },
 "nbformat": 4,
 "nbformat_minor": 1
}
